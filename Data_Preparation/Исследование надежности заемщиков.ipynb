{
 "cells": [
  {
   "cell_type": "markdown",
   "id": "63846d71",
   "metadata": {
    "deletable": false,
    "editable": false,
    "id": "c81daeeb"
   },
   "source": [
    "# Исследование надежности заемщиков\n"
   ]
  },
  {
   "cell_type": "markdown",
   "id": "e8d4f365",
   "metadata": {
    "deletable": false,
    "editable": false,
    "id": "827c20bf"
   },
   "source": [
    "Во второй части проекта вы выполните шаги 3 и 4. Их вручную проверит ревьюер.\n",
    "Чтобы вам не пришлось писать код заново для шагов 1 и 2, мы добавили авторские решения в ячейки с кодом. \n",
    "\n"
   ]
  },
  {
   "cell_type": "markdown",
   "id": "17d0ad30",
   "metadata": {
    "deletable": false,
    "editable": false,
    "id": "744d7639"
   },
   "source": [
    "## Откройте таблицу и изучите общую информацию о данных"
   ]
  },
  {
   "cell_type": "markdown",
   "id": "ea09a5d9",
   "metadata": {
    "deletable": false,
    "editable": false,
    "id": "e7a14c31"
   },
   "source": [
    "**Задание 1. Импортируйте библиотеку pandas. Считайте данные из csv-файла в датафрейм и сохраните в переменную `data`. Путь к файлу:**\n",
    "\n",
    "`/datasets/data.csv`"
   ]
  },
  {
   "cell_type": "code",
   "execution_count": 1,
   "id": "d9ca531a",
   "metadata": {
    "deletable": false,
    "id": "7bcf75c9"
   },
   "outputs": [],
   "source": [
    "import pandas as pd\n",
    "\n",
    "try:\n",
    "    data = pd.read_csv('/datasets/data.csv')\n",
    "except:\n",
    "    data = pd.read_csv('https://code.s3.yandex.net/datasets/data.csv')"
   ]
  },
  {
   "cell_type": "markdown",
   "id": "9b087830",
   "metadata": {
    "deletable": false,
    "editable": false,
    "id": "b8038fe3"
   },
   "source": [
    "**Задание 2. Выведите первые 20 строчек датафрейма `data` на экран.**"
   ]
  },
  {
   "cell_type": "code",
   "execution_count": 2,
   "id": "2d036068",
   "metadata": {
    "deletable": false,
    "id": "2a7cab99",
    "outputId": "1a8f3ef2-d323-4ec2-ddf7-89670b5944c4"
   },
   "outputs": [
    {
     "data": {
      "text/html": [
       "<div>\n",
       "<style scoped>\n",
       "    .dataframe tbody tr th:only-of-type {\n",
       "        vertical-align: middle;\n",
       "    }\n",
       "\n",
       "    .dataframe tbody tr th {\n",
       "        vertical-align: top;\n",
       "    }\n",
       "\n",
       "    .dataframe thead th {\n",
       "        text-align: right;\n",
       "    }\n",
       "</style>\n",
       "<table border=\"1\" class=\"dataframe\">\n",
       "  <thead>\n",
       "    <tr style=\"text-align: right;\">\n",
       "      <th></th>\n",
       "      <th>children</th>\n",
       "      <th>days_employed</th>\n",
       "      <th>dob_years</th>\n",
       "      <th>education</th>\n",
       "      <th>education_id</th>\n",
       "      <th>family_status</th>\n",
       "      <th>family_status_id</th>\n",
       "      <th>gender</th>\n",
       "      <th>income_type</th>\n",
       "      <th>debt</th>\n",
       "      <th>total_income</th>\n",
       "      <th>purpose</th>\n",
       "    </tr>\n",
       "  </thead>\n",
       "  <tbody>\n",
       "    <tr>\n",
       "      <th>0</th>\n",
       "      <td>1</td>\n",
       "      <td>-8437.673028</td>\n",
       "      <td>42</td>\n",
       "      <td>высшее</td>\n",
       "      <td>0</td>\n",
       "      <td>женат / замужем</td>\n",
       "      <td>0</td>\n",
       "      <td>F</td>\n",
       "      <td>сотрудник</td>\n",
       "      <td>0</td>\n",
       "      <td>253875.639453</td>\n",
       "      <td>покупка жилья</td>\n",
       "    </tr>\n",
       "    <tr>\n",
       "      <th>1</th>\n",
       "      <td>1</td>\n",
       "      <td>-4024.803754</td>\n",
       "      <td>36</td>\n",
       "      <td>среднее</td>\n",
       "      <td>1</td>\n",
       "      <td>женат / замужем</td>\n",
       "      <td>0</td>\n",
       "      <td>F</td>\n",
       "      <td>сотрудник</td>\n",
       "      <td>0</td>\n",
       "      <td>112080.014102</td>\n",
       "      <td>приобретение автомобиля</td>\n",
       "    </tr>\n",
       "    <tr>\n",
       "      <th>2</th>\n",
       "      <td>0</td>\n",
       "      <td>-5623.422610</td>\n",
       "      <td>33</td>\n",
       "      <td>Среднее</td>\n",
       "      <td>1</td>\n",
       "      <td>женат / замужем</td>\n",
       "      <td>0</td>\n",
       "      <td>M</td>\n",
       "      <td>сотрудник</td>\n",
       "      <td>0</td>\n",
       "      <td>145885.952297</td>\n",
       "      <td>покупка жилья</td>\n",
       "    </tr>\n",
       "    <tr>\n",
       "      <th>3</th>\n",
       "      <td>3</td>\n",
       "      <td>-4124.747207</td>\n",
       "      <td>32</td>\n",
       "      <td>среднее</td>\n",
       "      <td>1</td>\n",
       "      <td>женат / замужем</td>\n",
       "      <td>0</td>\n",
       "      <td>M</td>\n",
       "      <td>сотрудник</td>\n",
       "      <td>0</td>\n",
       "      <td>267628.550329</td>\n",
       "      <td>дополнительное образование</td>\n",
       "    </tr>\n",
       "    <tr>\n",
       "      <th>4</th>\n",
       "      <td>0</td>\n",
       "      <td>340266.072047</td>\n",
       "      <td>53</td>\n",
       "      <td>среднее</td>\n",
       "      <td>1</td>\n",
       "      <td>гражданский брак</td>\n",
       "      <td>1</td>\n",
       "      <td>F</td>\n",
       "      <td>пенсионер</td>\n",
       "      <td>0</td>\n",
       "      <td>158616.077870</td>\n",
       "      <td>сыграть свадьбу</td>\n",
       "    </tr>\n",
       "    <tr>\n",
       "      <th>5</th>\n",
       "      <td>0</td>\n",
       "      <td>-926.185831</td>\n",
       "      <td>27</td>\n",
       "      <td>высшее</td>\n",
       "      <td>0</td>\n",
       "      <td>гражданский брак</td>\n",
       "      <td>1</td>\n",
       "      <td>M</td>\n",
       "      <td>компаньон</td>\n",
       "      <td>0</td>\n",
       "      <td>255763.565419</td>\n",
       "      <td>покупка жилья</td>\n",
       "    </tr>\n",
       "    <tr>\n",
       "      <th>6</th>\n",
       "      <td>0</td>\n",
       "      <td>-2879.202052</td>\n",
       "      <td>43</td>\n",
       "      <td>высшее</td>\n",
       "      <td>0</td>\n",
       "      <td>женат / замужем</td>\n",
       "      <td>0</td>\n",
       "      <td>F</td>\n",
       "      <td>компаньон</td>\n",
       "      <td>0</td>\n",
       "      <td>240525.971920</td>\n",
       "      <td>операции с жильем</td>\n",
       "    </tr>\n",
       "    <tr>\n",
       "      <th>7</th>\n",
       "      <td>0</td>\n",
       "      <td>-152.779569</td>\n",
       "      <td>50</td>\n",
       "      <td>СРЕДНЕЕ</td>\n",
       "      <td>1</td>\n",
       "      <td>женат / замужем</td>\n",
       "      <td>0</td>\n",
       "      <td>M</td>\n",
       "      <td>сотрудник</td>\n",
       "      <td>0</td>\n",
       "      <td>135823.934197</td>\n",
       "      <td>образование</td>\n",
       "    </tr>\n",
       "    <tr>\n",
       "      <th>8</th>\n",
       "      <td>2</td>\n",
       "      <td>-6929.865299</td>\n",
       "      <td>35</td>\n",
       "      <td>ВЫСШЕЕ</td>\n",
       "      <td>0</td>\n",
       "      <td>гражданский брак</td>\n",
       "      <td>1</td>\n",
       "      <td>F</td>\n",
       "      <td>сотрудник</td>\n",
       "      <td>0</td>\n",
       "      <td>95856.832424</td>\n",
       "      <td>на проведение свадьбы</td>\n",
       "    </tr>\n",
       "    <tr>\n",
       "      <th>9</th>\n",
       "      <td>0</td>\n",
       "      <td>-2188.756445</td>\n",
       "      <td>41</td>\n",
       "      <td>среднее</td>\n",
       "      <td>1</td>\n",
       "      <td>женат / замужем</td>\n",
       "      <td>0</td>\n",
       "      <td>M</td>\n",
       "      <td>сотрудник</td>\n",
       "      <td>0</td>\n",
       "      <td>144425.938277</td>\n",
       "      <td>покупка жилья для семьи</td>\n",
       "    </tr>\n",
       "    <tr>\n",
       "      <th>10</th>\n",
       "      <td>2</td>\n",
       "      <td>-4171.483647</td>\n",
       "      <td>36</td>\n",
       "      <td>высшее</td>\n",
       "      <td>0</td>\n",
       "      <td>женат / замужем</td>\n",
       "      <td>0</td>\n",
       "      <td>M</td>\n",
       "      <td>компаньон</td>\n",
       "      <td>0</td>\n",
       "      <td>113943.491460</td>\n",
       "      <td>покупка недвижимости</td>\n",
       "    </tr>\n",
       "    <tr>\n",
       "      <th>11</th>\n",
       "      <td>0</td>\n",
       "      <td>-792.701887</td>\n",
       "      <td>40</td>\n",
       "      <td>среднее</td>\n",
       "      <td>1</td>\n",
       "      <td>женат / замужем</td>\n",
       "      <td>0</td>\n",
       "      <td>F</td>\n",
       "      <td>сотрудник</td>\n",
       "      <td>0</td>\n",
       "      <td>77069.234271</td>\n",
       "      <td>покупка коммерческой недвижимости</td>\n",
       "    </tr>\n",
       "    <tr>\n",
       "      <th>12</th>\n",
       "      <td>0</td>\n",
       "      <td>NaN</td>\n",
       "      <td>65</td>\n",
       "      <td>среднее</td>\n",
       "      <td>1</td>\n",
       "      <td>гражданский брак</td>\n",
       "      <td>1</td>\n",
       "      <td>M</td>\n",
       "      <td>пенсионер</td>\n",
       "      <td>0</td>\n",
       "      <td>NaN</td>\n",
       "      <td>сыграть свадьбу</td>\n",
       "    </tr>\n",
       "    <tr>\n",
       "      <th>13</th>\n",
       "      <td>0</td>\n",
       "      <td>-1846.641941</td>\n",
       "      <td>54</td>\n",
       "      <td>неоконченное высшее</td>\n",
       "      <td>2</td>\n",
       "      <td>женат / замужем</td>\n",
       "      <td>0</td>\n",
       "      <td>F</td>\n",
       "      <td>сотрудник</td>\n",
       "      <td>0</td>\n",
       "      <td>130458.228857</td>\n",
       "      <td>приобретение автомобиля</td>\n",
       "    </tr>\n",
       "    <tr>\n",
       "      <th>14</th>\n",
       "      <td>0</td>\n",
       "      <td>-1844.956182</td>\n",
       "      <td>56</td>\n",
       "      <td>высшее</td>\n",
       "      <td>0</td>\n",
       "      <td>гражданский брак</td>\n",
       "      <td>1</td>\n",
       "      <td>F</td>\n",
       "      <td>компаньон</td>\n",
       "      <td>1</td>\n",
       "      <td>165127.911772</td>\n",
       "      <td>покупка жилой недвижимости</td>\n",
       "    </tr>\n",
       "    <tr>\n",
       "      <th>15</th>\n",
       "      <td>1</td>\n",
       "      <td>-972.364419</td>\n",
       "      <td>26</td>\n",
       "      <td>среднее</td>\n",
       "      <td>1</td>\n",
       "      <td>женат / замужем</td>\n",
       "      <td>0</td>\n",
       "      <td>F</td>\n",
       "      <td>сотрудник</td>\n",
       "      <td>0</td>\n",
       "      <td>116820.904450</td>\n",
       "      <td>строительство собственной недвижимости</td>\n",
       "    </tr>\n",
       "    <tr>\n",
       "      <th>16</th>\n",
       "      <td>0</td>\n",
       "      <td>-1719.934226</td>\n",
       "      <td>35</td>\n",
       "      <td>среднее</td>\n",
       "      <td>1</td>\n",
       "      <td>женат / замужем</td>\n",
       "      <td>0</td>\n",
       "      <td>F</td>\n",
       "      <td>сотрудник</td>\n",
       "      <td>0</td>\n",
       "      <td>289202.704229</td>\n",
       "      <td>недвижимость</td>\n",
       "    </tr>\n",
       "    <tr>\n",
       "      <th>17</th>\n",
       "      <td>0</td>\n",
       "      <td>-2369.999720</td>\n",
       "      <td>33</td>\n",
       "      <td>высшее</td>\n",
       "      <td>0</td>\n",
       "      <td>гражданский брак</td>\n",
       "      <td>1</td>\n",
       "      <td>M</td>\n",
       "      <td>сотрудник</td>\n",
       "      <td>0</td>\n",
       "      <td>90410.586745</td>\n",
       "      <td>строительство недвижимости</td>\n",
       "    </tr>\n",
       "    <tr>\n",
       "      <th>18</th>\n",
       "      <td>0</td>\n",
       "      <td>400281.136913</td>\n",
       "      <td>53</td>\n",
       "      <td>среднее</td>\n",
       "      <td>1</td>\n",
       "      <td>вдовец / вдова</td>\n",
       "      <td>2</td>\n",
       "      <td>F</td>\n",
       "      <td>пенсионер</td>\n",
       "      <td>0</td>\n",
       "      <td>56823.777243</td>\n",
       "      <td>на покупку подержанного автомобиля</td>\n",
       "    </tr>\n",
       "    <tr>\n",
       "      <th>19</th>\n",
       "      <td>0</td>\n",
       "      <td>-10038.818549</td>\n",
       "      <td>48</td>\n",
       "      <td>СРЕДНЕЕ</td>\n",
       "      <td>1</td>\n",
       "      <td>в разводе</td>\n",
       "      <td>3</td>\n",
       "      <td>F</td>\n",
       "      <td>сотрудник</td>\n",
       "      <td>0</td>\n",
       "      <td>242831.107982</td>\n",
       "      <td>на покупку своего автомобиля</td>\n",
       "    </tr>\n",
       "  </tbody>\n",
       "</table>\n",
       "</div>"
      ],
      "text/plain": [
       "    children  days_employed  dob_years            education  education_id  \\\n",
       "0          1   -8437.673028         42               высшее             0   \n",
       "1          1   -4024.803754         36              среднее             1   \n",
       "2          0   -5623.422610         33              Среднее             1   \n",
       "3          3   -4124.747207         32              среднее             1   \n",
       "4          0  340266.072047         53              среднее             1   \n",
       "5          0    -926.185831         27               высшее             0   \n",
       "6          0   -2879.202052         43               высшее             0   \n",
       "7          0    -152.779569         50              СРЕДНЕЕ             1   \n",
       "8          2   -6929.865299         35               ВЫСШЕЕ             0   \n",
       "9          0   -2188.756445         41              среднее             1   \n",
       "10         2   -4171.483647         36               высшее             0   \n",
       "11         0    -792.701887         40              среднее             1   \n",
       "12         0            NaN         65              среднее             1   \n",
       "13         0   -1846.641941         54  неоконченное высшее             2   \n",
       "14         0   -1844.956182         56               высшее             0   \n",
       "15         1    -972.364419         26              среднее             1   \n",
       "16         0   -1719.934226         35              среднее             1   \n",
       "17         0   -2369.999720         33               высшее             0   \n",
       "18         0  400281.136913         53              среднее             1   \n",
       "19         0  -10038.818549         48              СРЕДНЕЕ             1   \n",
       "\n",
       "       family_status  family_status_id gender income_type  debt  \\\n",
       "0    женат / замужем                 0      F   сотрудник     0   \n",
       "1    женат / замужем                 0      F   сотрудник     0   \n",
       "2    женат / замужем                 0      M   сотрудник     0   \n",
       "3    женат / замужем                 0      M   сотрудник     0   \n",
       "4   гражданский брак                 1      F   пенсионер     0   \n",
       "5   гражданский брак                 1      M   компаньон     0   \n",
       "6    женат / замужем                 0      F   компаньон     0   \n",
       "7    женат / замужем                 0      M   сотрудник     0   \n",
       "8   гражданский брак                 1      F   сотрудник     0   \n",
       "9    женат / замужем                 0      M   сотрудник     0   \n",
       "10   женат / замужем                 0      M   компаньон     0   \n",
       "11   женат / замужем                 0      F   сотрудник     0   \n",
       "12  гражданский брак                 1      M   пенсионер     0   \n",
       "13   женат / замужем                 0      F   сотрудник     0   \n",
       "14  гражданский брак                 1      F   компаньон     1   \n",
       "15   женат / замужем                 0      F   сотрудник     0   \n",
       "16   женат / замужем                 0      F   сотрудник     0   \n",
       "17  гражданский брак                 1      M   сотрудник     0   \n",
       "18    вдовец / вдова                 2      F   пенсионер     0   \n",
       "19         в разводе                 3      F   сотрудник     0   \n",
       "\n",
       "     total_income                                 purpose  \n",
       "0   253875.639453                           покупка жилья  \n",
       "1   112080.014102                 приобретение автомобиля  \n",
       "2   145885.952297                           покупка жилья  \n",
       "3   267628.550329              дополнительное образование  \n",
       "4   158616.077870                         сыграть свадьбу  \n",
       "5   255763.565419                           покупка жилья  \n",
       "6   240525.971920                       операции с жильем  \n",
       "7   135823.934197                             образование  \n",
       "8    95856.832424                   на проведение свадьбы  \n",
       "9   144425.938277                 покупка жилья для семьи  \n",
       "10  113943.491460                    покупка недвижимости  \n",
       "11   77069.234271       покупка коммерческой недвижимости  \n",
       "12            NaN                         сыграть свадьбу  \n",
       "13  130458.228857                 приобретение автомобиля  \n",
       "14  165127.911772              покупка жилой недвижимости  \n",
       "15  116820.904450  строительство собственной недвижимости  \n",
       "16  289202.704229                            недвижимость  \n",
       "17   90410.586745              строительство недвижимости  \n",
       "18   56823.777243      на покупку подержанного автомобиля  \n",
       "19  242831.107982            на покупку своего автомобиля  "
      ]
     },
     "execution_count": 2,
     "metadata": {},
     "output_type": "execute_result"
    }
   ],
   "source": [
    "data.head(20)"
   ]
  },
  {
   "cell_type": "markdown",
   "id": "d242f6b9",
   "metadata": {
    "deletable": false,
    "editable": false,
    "id": "1c12e233"
   },
   "source": [
    "**Задание 3. Выведите основную информацию о датафрейме с помощью метода `info()`.**"
   ]
  },
  {
   "cell_type": "code",
   "execution_count": 3,
   "id": "d230d073",
   "metadata": {
    "deletable": false,
    "id": "2b757bca",
    "outputId": "15376089-8dad-46c9-b520-c05248d43158"
   },
   "outputs": [
    {
     "name": "stdout",
     "output_type": "stream",
     "text": [
      "<class 'pandas.core.frame.DataFrame'>\n",
      "RangeIndex: 21525 entries, 0 to 21524\n",
      "Data columns (total 12 columns):\n",
      " #   Column            Non-Null Count  Dtype  \n",
      "---  ------            --------------  -----  \n",
      " 0   children          21525 non-null  int64  \n",
      " 1   days_employed     19351 non-null  float64\n",
      " 2   dob_years         21525 non-null  int64  \n",
      " 3   education         21525 non-null  object \n",
      " 4   education_id      21525 non-null  int64  \n",
      " 5   family_status     21525 non-null  object \n",
      " 6   family_status_id  21525 non-null  int64  \n",
      " 7   gender            21525 non-null  object \n",
      " 8   income_type       21525 non-null  object \n",
      " 9   debt              21525 non-null  int64  \n",
      " 10  total_income      19351 non-null  float64\n",
      " 11  purpose           21525 non-null  object \n",
      "dtypes: float64(2), int64(5), object(5)\n",
      "memory usage: 2.0+ MB\n"
     ]
    }
   ],
   "source": [
    "data.info()"
   ]
  },
  {
   "cell_type": "markdown",
   "id": "6ce91487",
   "metadata": {
    "deletable": false,
    "editable": false,
    "id": "333ec665"
   },
   "source": [
    "## Предобработка данных"
   ]
  },
  {
   "cell_type": "markdown",
   "id": "5b95bbd9",
   "metadata": {
    "deletable": false,
    "editable": false,
    "id": "02d92d53"
   },
   "source": [
    "### Удаление пропусков"
   ]
  },
  {
   "cell_type": "markdown",
   "id": "7f96762d",
   "metadata": {
    "deletable": false,
    "editable": false,
    "id": "cd84967c"
   },
   "source": [
    "**Задание 4. Выведите количество пропущенных значений для каждого столбца. Используйте комбинацию двух методов.**"
   ]
  },
  {
   "cell_type": "code",
   "execution_count": 4,
   "id": "102a34dd",
   "metadata": {
    "deletable": false,
    "id": "7f9b2309",
    "outputId": "81f4d817-781c-465c-ed15-91ce4446810d"
   },
   "outputs": [
    {
     "data": {
      "text/plain": [
       "children               0\n",
       "days_employed       2174\n",
       "dob_years              0\n",
       "education              0\n",
       "education_id           0\n",
       "family_status          0\n",
       "family_status_id       0\n",
       "gender                 0\n",
       "income_type            0\n",
       "debt                   0\n",
       "total_income        2174\n",
       "purpose                0\n",
       "dtype: int64"
      ]
     },
     "execution_count": 4,
     "metadata": {},
     "output_type": "execute_result"
    }
   ],
   "source": [
    "data.isna().sum()"
   ]
  },
  {
   "cell_type": "markdown",
   "id": "9fddea39",
   "metadata": {
    "deletable": false,
    "editable": false,
    "id": "db86e27b"
   },
   "source": [
    "**Задание 5. В двух столбцах есть пропущенные значения. Один из них — `days_employed`. Пропуски в этом столбце вы обработаете на следующем этапе. Другой столбец с пропущенными значениями — `total_income` — хранит данные о доходах. На сумму дохода сильнее всего влияет тип занятости, поэтому заполнить пропуски в этом столбце нужно медианным значением по каждому типу из столбца `income_type`. Например, у человека с типом занятости `сотрудник` пропуск в столбце `total_income` должен быть заполнен медианным доходом среди всех записей с тем же типом.**"
   ]
  },
  {
   "cell_type": "code",
   "execution_count": 5,
   "id": "b88232ce",
   "metadata": {
    "deletable": false,
    "id": "42006a93"
   },
   "outputs": [],
   "source": [
    "for t in data['income_type'].unique():\n",
    "    data.loc[(data['income_type'] == t) & (data['total_income'].isna()), 'total_income'] = \\\n",
    "    data.loc[(data['income_type'] == t), 'total_income'].median()"
   ]
  },
  {
   "cell_type": "markdown",
   "id": "a13548f5",
   "metadata": {
    "deletable": false,
    "editable": false,
    "id": "89da5ece"
   },
   "source": [
    "### Обработка аномальных значений"
   ]
  },
  {
   "cell_type": "markdown",
   "id": "c67078b8",
   "metadata": {
    "deletable": false,
    "editable": false,
    "id": "57964554"
   },
   "source": [
    "**Задание 6. В данных могут встречаться артефакты (аномалии) — значения, которые не отражают действительность и появились по какой-то ошибке. таким артефактом будет отрицательное количество дней трудового стажа в столбце `days_employed`. Для реальных данных это нормально. Обработайте значения в этом столбце: замените все отрицательные значения положительными с помощью метода `abs()`.**"
   ]
  },
  {
   "cell_type": "code",
   "execution_count": 6,
   "id": "c33fec01",
   "metadata": {
    "deletable": false,
    "id": "f6f055bf"
   },
   "outputs": [],
   "source": [
    "data['days_employed'] = data['days_employed'].abs()"
   ]
  },
  {
   "cell_type": "markdown",
   "id": "7d83f439",
   "metadata": {
    "deletable": false,
    "editable": false,
    "id": "6107dd2f"
   },
   "source": [
    "**Задание 7. Для каждого типа занятости выведите медианное значение трудового стажа `days_employed` в днях.**"
   ]
  },
  {
   "cell_type": "code",
   "execution_count": 7,
   "id": "17fcdedf",
   "metadata": {
    "deletable": false,
    "id": "85a5faf6",
    "outputId": "801ef80e-522b-4668-f34e-565af7432bcf"
   },
   "outputs": [
    {
     "data": {
      "text/plain": [
       "income_type\n",
       "безработный        366413.652744\n",
       "в декрете            3296.759962\n",
       "госслужащий          2689.368353\n",
       "компаньон            1547.382223\n",
       "пенсионер          365213.306266\n",
       "предприниматель       520.848083\n",
       "сотрудник            1574.202821\n",
       "студент               578.751554\n",
       "Name: days_employed, dtype: float64"
      ]
     },
     "execution_count": 7,
     "metadata": {},
     "output_type": "execute_result"
    }
   ],
   "source": [
    "data.groupby('income_type')['days_employed'].agg('median')"
   ]
  },
  {
   "cell_type": "markdown",
   "id": "7db6bb1c",
   "metadata": {
    "deletable": false,
    "editable": false,
    "id": "38d1a030"
   },
   "source": [
    "У двух типов (безработные и пенсионеры) получатся аномально большие значения. Исправить такие значения сложно, поэтому оставьте их как есть. Тем более этот столбец не понадобится вам для исследования."
   ]
  },
  {
   "cell_type": "markdown",
   "id": "b2d2ef30",
   "metadata": {
    "deletable": false,
    "editable": false,
    "id": "d8a9f147"
   },
   "source": [
    "**Задание 8. Выведите перечень уникальных значений столбца `children`.**"
   ]
  },
  {
   "cell_type": "code",
   "execution_count": 8,
   "id": "c9cc78a7",
   "metadata": {
    "deletable": false,
    "id": "ef5056eb",
    "outputId": "6975b15c-7f95-4697-d16d-a0c79b657b03"
   },
   "outputs": [
    {
     "data": {
      "text/plain": [
       "array([ 1,  0,  3,  2, -1,  4, 20,  5])"
      ]
     },
     "execution_count": 8,
     "metadata": {},
     "output_type": "execute_result"
    }
   ],
   "source": [
    "data['children'].unique()"
   ]
  },
  {
   "cell_type": "markdown",
   "id": "7d5a2dd6",
   "metadata": {
    "deletable": false,
    "editable": false,
    "id": "40b9ebf2"
   },
   "source": [
    "**Задание 9. В столбце `children` есть два аномальных значения. Удалите строки, в которых встречаются такие аномальные значения из датафрейма `data`.**"
   ]
  },
  {
   "cell_type": "code",
   "execution_count": 9,
   "id": "78889562",
   "metadata": {
    "deletable": false,
    "id": "3ff9801d"
   },
   "outputs": [],
   "source": [
    "data = data[(data['children'] != -1) & (data['children'] != 20)]"
   ]
  },
  {
   "cell_type": "markdown",
   "id": "e7be19bc",
   "metadata": {
    "deletable": false,
    "editable": false,
    "id": "bbc4d0ce"
   },
   "source": [
    "**Задание 10. Ещё раз выведите перечень уникальных значений столбца `children`, чтобы убедиться, что артефакты удалены.**"
   ]
  },
  {
   "cell_type": "code",
   "execution_count": 10,
   "id": "ca74cfc8",
   "metadata": {
    "deletable": false,
    "id": "ad4fa8b7",
    "outputId": "b2097101-d49d-44d9-901b-32a65c9463d1"
   },
   "outputs": [
    {
     "data": {
      "text/plain": [
       "array([1, 0, 3, 2, 4, 5])"
      ]
     },
     "execution_count": 10,
     "metadata": {},
     "output_type": "execute_result"
    }
   ],
   "source": [
    "data['children'].unique()"
   ]
  },
  {
   "cell_type": "markdown",
   "id": "95221caa",
   "metadata": {
    "deletable": false,
    "editable": false,
    "id": "75440b63"
   },
   "source": [
    "### Удаление пропусков (продолжение)"
   ]
  },
  {
   "cell_type": "markdown",
   "id": "755e16bb",
   "metadata": {
    "deletable": false,
    "editable": false,
    "id": "f4ea573f"
   },
   "source": [
    "**Задание 11. Заполните пропуски в столбце `days_employed` медианными значениями по каждого типа занятости `income_type`.**"
   ]
  },
  {
   "cell_type": "code",
   "execution_count": 11,
   "id": "a170e867",
   "metadata": {
    "deletable": false,
    "id": "af6b1a7e"
   },
   "outputs": [],
   "source": [
    "for t in data['income_type'].unique():\n",
    "    data.loc[(data['income_type'] == t) & (data['days_employed'].isna()), 'days_employed'] = \\\n",
    "    data.loc[(data['income_type'] == t), 'days_employed'].median()"
   ]
  },
  {
   "cell_type": "markdown",
   "id": "b194abb0",
   "metadata": {
    "deletable": false,
    "editable": false,
    "id": "2753f40d"
   },
   "source": [
    "**Задание 12. Убедитесь, что все пропуски заполнены. Проверьте себя и ещё раз выведите количество пропущенных значений для каждого столбца с помощью двух методов.**"
   ]
  },
  {
   "cell_type": "code",
   "execution_count": 12,
   "id": "9e8352bd",
   "metadata": {
    "deletable": false,
    "id": "55f78bc2",
    "outputId": "8da1e4e1-358e-4e87-98c9-f261bce0a7b2"
   },
   "outputs": [
    {
     "data": {
      "text/plain": [
       "children            0\n",
       "days_employed       0\n",
       "dob_years           0\n",
       "education           0\n",
       "education_id        0\n",
       "family_status       0\n",
       "family_status_id    0\n",
       "gender              0\n",
       "income_type         0\n",
       "debt                0\n",
       "total_income        0\n",
       "purpose             0\n",
       "dtype: int64"
      ]
     },
     "execution_count": 12,
     "metadata": {},
     "output_type": "execute_result"
    }
   ],
   "source": [
    "data.isna().sum()"
   ]
  },
  {
   "cell_type": "markdown",
   "id": "509ff462",
   "metadata": {
    "deletable": false,
    "editable": false,
    "id": "ddc81e43"
   },
   "source": [
    "### Изменение типов данных"
   ]
  },
  {
   "cell_type": "markdown",
   "id": "ddecf423",
   "metadata": {
    "deletable": false,
    "editable": false,
    "id": "42d19d24"
   },
   "source": [
    "**Задание 13. Замените вещественный тип данных в столбце `total_income` на целочисленный с помощью метода `astype()`.**"
   ]
  },
  {
   "cell_type": "code",
   "execution_count": 13,
   "id": "b644d50f",
   "metadata": {
    "deletable": false,
    "id": "920b65ad"
   },
   "outputs": [],
   "source": [
    "data['total_income'] = data['total_income'].astype(int)"
   ]
  },
  {
   "cell_type": "markdown",
   "id": "92274b3f",
   "metadata": {
    "deletable": false,
    "editable": false,
    "id": "80c420ba"
   },
   "source": [
    "### Обработка дубликатов"
   ]
  },
  {
   "cell_type": "markdown",
   "id": "19ffa481",
   "metadata": {
    "deletable": false,
    "editable": false
   },
   "source": [
    "**Задание 14. Обработайте неявные дубликаты в столбце `education`. В этом столбце есть одни и те же значения, но записанные по-разному: с использованием заглавных и строчных букв. Приведите их к нижнему регистру. Проверьте остальные столбцы.**"
   ]
  },
  {
   "cell_type": "code",
   "execution_count": 14,
   "id": "f32cf3ca",
   "metadata": {
    "deletable": false
   },
   "outputs": [],
   "source": [
    "data['education'] = data['education'].str.lower()"
   ]
  },
  {
   "cell_type": "markdown",
   "id": "e3835e29",
   "metadata": {
    "deletable": false,
    "editable": false,
    "id": "dc587695"
   },
   "source": [
    "**Задание 15. Выведите на экран количество строк-дубликатов в данных. Если такие строки присутствуют, удалите их.**"
   ]
  },
  {
   "cell_type": "code",
   "execution_count": 15,
   "id": "7cdd655f",
   "metadata": {
    "deletable": false,
    "id": "3ee445e4",
    "outputId": "9684deba-1934-42d1-99e1-cda61740f822"
   },
   "outputs": [
    {
     "data": {
      "text/plain": [
       "71"
      ]
     },
     "execution_count": 15,
     "metadata": {},
     "output_type": "execute_result"
    }
   ],
   "source": [
    "data.duplicated().sum()"
   ]
  },
  {
   "cell_type": "code",
   "execution_count": 16,
   "id": "b868f743",
   "metadata": {
    "deletable": false,
    "id": "8575fe05"
   },
   "outputs": [],
   "source": [
    "data = data.drop_duplicates()"
   ]
  },
  {
   "cell_type": "markdown",
   "id": "8edf0949",
   "metadata": {
    "deletable": false,
    "editable": false,
    "id": "9904cf55"
   },
   "source": [
    "### Категоризация данных"
   ]
  },
  {
   "cell_type": "markdown",
   "id": "18ddecda",
   "metadata": {
    "deletable": false,
    "editable": false,
    "id": "72fcc8a2"
   },
   "source": [
    "**Задание 16. На основании диапазонов, указанных ниже, создайте в датафрейме `data` столбец `total_income_category` с категориями:**\n",
    "\n",
    "- 0–30000 — `'E'`;\n",
    "- 30001–50000 — `'D'`;\n",
    "- 50001–200000 — `'C'`;\n",
    "- 200001–1000000 — `'B'`;\n",
    "- 1000001 и выше — `'A'`.\n",
    "\n",
    "\n",
    "**Например, кредитополучателю с доходом 25000 нужно назначить категорию `'E'`, а клиенту, получающему 235000, — `'B'`. Используйте собственную функцию с именем `categorize_income()` и метод `apply()`.**"
   ]
  },
  {
   "cell_type": "code",
   "execution_count": 17,
   "id": "926135ae",
   "metadata": {
    "deletable": false,
    "id": "e1771346"
   },
   "outputs": [],
   "source": [
    "def categorize_income(income):\n",
    "    try:\n",
    "        if 0 <= income <= 30000:\n",
    "            return 'E'\n",
    "        elif 30001 <= income <= 50000:\n",
    "            return 'D'\n",
    "        elif 50001 <= income <= 200000:\n",
    "            return 'C'\n",
    "        elif 200001 <= income <= 1000000:\n",
    "            return 'B'\n",
    "        elif income >= 1000001:\n",
    "            return 'A'\n",
    "    except:\n",
    "        pass"
   ]
  },
  {
   "cell_type": "code",
   "execution_count": 18,
   "id": "d01bf70e",
   "metadata": {
    "deletable": false,
    "id": "d5f3586d"
   },
   "outputs": [],
   "source": [
    "data['total_income_category'] = data['total_income'].apply(categorize_income)"
   ]
  },
  {
   "cell_type": "markdown",
   "id": "d866c5bd",
   "metadata": {
    "deletable": false,
    "editable": false,
    "id": "dde49b5c"
   },
   "source": [
    "**Задание 17. Выведите на экран перечень уникальных целей взятия кредита из столбца `purpose`.**"
   ]
  },
  {
   "cell_type": "code",
   "execution_count": 19,
   "id": "0cf393a8",
   "metadata": {
    "deletable": false,
    "id": "f67ce9b3",
    "outputId": "673c12d9-7d7e-4ae0-9812-c622c89dd244"
   },
   "outputs": [
    {
     "data": {
      "text/plain": [
       "array(['покупка жилья', 'приобретение автомобиля',\n",
       "       'дополнительное образование', 'сыграть свадьбу',\n",
       "       'операции с жильем', 'образование', 'на проведение свадьбы',\n",
       "       'покупка жилья для семьи', 'покупка недвижимости',\n",
       "       'покупка коммерческой недвижимости', 'покупка жилой недвижимости',\n",
       "       'строительство собственной недвижимости', 'недвижимость',\n",
       "       'строительство недвижимости', 'на покупку подержанного автомобиля',\n",
       "       'на покупку своего автомобиля',\n",
       "       'операции с коммерческой недвижимостью',\n",
       "       'строительство жилой недвижимости', 'жилье',\n",
       "       'операции со своей недвижимостью', 'автомобили',\n",
       "       'заняться образованием', 'сделка с подержанным автомобилем',\n",
       "       'получение образования', 'автомобиль', 'свадьба',\n",
       "       'получение дополнительного образования', 'покупка своего жилья',\n",
       "       'операции с недвижимостью', 'получение высшего образования',\n",
       "       'свой автомобиль', 'сделка с автомобилем',\n",
       "       'профильное образование', 'высшее образование',\n",
       "       'покупка жилья для сдачи', 'на покупку автомобиля', 'ремонт жилью',\n",
       "       'заняться высшим образованием'], dtype=object)"
      ]
     },
     "execution_count": 19,
     "metadata": {},
     "output_type": "execute_result"
    }
   ],
   "source": [
    "data['purpose'].unique()"
   ]
  },
  {
   "cell_type": "markdown",
   "id": "22cb06af",
   "metadata": {
    "deletable": false,
    "editable": false,
    "id": "85d0aef0"
   },
   "source": [
    "**Задание 18. Создайте функцию, которая на основании данных из столбца `purpose` сформирует новый столбец `purpose_category`, в который войдут следующие категории:**\n",
    "\n",
    "- `'операции с автомобилем'`,\n",
    "- `'операции с недвижимостью'`,\n",
    "- `'проведение свадьбы'`,\n",
    "- `'получение образования'`.\n",
    "\n",
    "**Например, если в столбце `purpose` находится подстрока `'на покупку автомобиля'`, то в столбце `purpose_category` должна появиться строка `'операции с автомобилем'`.**\n",
    "\n",
    "**Используйте собственную функцию с именем `categorize_purpose()` и метод `apply()`. Изучите данные в столбце `purpose` и определите, какие подстроки помогут вам правильно определить категорию.**"
   ]
  },
  {
   "cell_type": "code",
   "execution_count": 20,
   "id": "3ffd6f8e",
   "metadata": {
    "deletable": false,
    "id": "e149fab4"
   },
   "outputs": [],
   "source": [
    "def categorize_purpose(row):\n",
    "    try:\n",
    "        if 'автом' in row:\n",
    "            return 'операции с автомобилем'\n",
    "        elif 'жил' in row or 'недвиж' in row:\n",
    "            return 'операции с недвижимостью'\n",
    "        elif 'свад' in row:\n",
    "            return 'проведение свадьбы'\n",
    "        elif 'образов' in row:\n",
    "            return 'получение образования'\n",
    "    except:\n",
    "        return 'нет категории'"
   ]
  },
  {
   "cell_type": "code",
   "execution_count": 21,
   "id": "0390baf6",
   "metadata": {
    "deletable": false,
    "id": "bf36e69b"
   },
   "outputs": [],
   "source": [
    "data['purpose_category'] = data['purpose'].apply(categorize_purpose)"
   ]
  },
  {
   "cell_type": "markdown",
   "id": "1df74352",
   "metadata": {
    "deletable": false,
    "editable": false,
    "id": "09b242bf"
   },
   "source": [
    "### Шаг 3. Исследуйте данные и ответьте на вопросы"
   ]
  },
  {
   "cell_type": "markdown",
   "id": "8fa1dcb9",
   "metadata": {},
   "source": [
    "Подключим библиотеку Seaborn для визуализации"
   ]
  },
  {
   "cell_type": "code",
   "execution_count": 22,
   "id": "2e070b76",
   "metadata": {},
   "outputs": [],
   "source": [
    "import seaborn as sns"
   ]
  },
  {
   "cell_type": "markdown",
   "id": "9d97288e",
   "metadata": {
    "deletable": false,
    "editable": false,
    "id": "c5d66278"
   },
   "source": [
    "#### 3.1 Есть ли зависимость между количеством детей и возвратом кредита в срок?"
   ]
  },
  {
   "cell_type": "markdown",
   "id": "7f5623cc",
   "metadata": {},
   "source": [
    "Создадим сводную таблицу `children_debt`. Таблица будет состоять из 3 столбцов:\n",
    "* `sum` - количество людей, у которых в данный момент есть задолженность\n",
    "* `count` - количество людей, у которых определённое количество детей\n",
    "* `ratio` - отношение числа должников к общему числу людей в данной категории"
   ]
  },
  {
   "cell_type": "code",
   "execution_count": 23,
   "id": "28163025",
   "metadata": {
    "deletable": false,
    "id": "2cacfc4a"
   },
   "outputs": [
    {
     "data": {
      "text/html": [
       "<div>\n",
       "<style scoped>\n",
       "    .dataframe tbody tr th:only-of-type {\n",
       "        vertical-align: middle;\n",
       "    }\n",
       "\n",
       "    .dataframe tbody tr th {\n",
       "        vertical-align: top;\n",
       "    }\n",
       "\n",
       "    .dataframe thead tr th {\n",
       "        text-align: left;\n",
       "    }\n",
       "\n",
       "    .dataframe thead tr:last-of-type th {\n",
       "        text-align: right;\n",
       "    }\n",
       "</style>\n",
       "<table border=\"1\" class=\"dataframe\">\n",
       "  <thead>\n",
       "    <tr>\n",
       "      <th></th>\n",
       "      <th>sum</th>\n",
       "      <th>count</th>\n",
       "      <th>ratio</th>\n",
       "    </tr>\n",
       "    <tr>\n",
       "      <th></th>\n",
       "      <th>debt</th>\n",
       "      <th>debt</th>\n",
       "      <th></th>\n",
       "    </tr>\n",
       "    <tr>\n",
       "      <th>children</th>\n",
       "      <th></th>\n",
       "      <th></th>\n",
       "      <th></th>\n",
       "    </tr>\n",
       "  </thead>\n",
       "  <tbody>\n",
       "    <tr>\n",
       "      <th>0</th>\n",
       "      <td>1063</td>\n",
       "      <td>14091</td>\n",
       "      <td>0.075438</td>\n",
       "    </tr>\n",
       "    <tr>\n",
       "      <th>1</th>\n",
       "      <td>444</td>\n",
       "      <td>4808</td>\n",
       "      <td>0.092346</td>\n",
       "    </tr>\n",
       "    <tr>\n",
       "      <th>2</th>\n",
       "      <td>194</td>\n",
       "      <td>2052</td>\n",
       "      <td>0.094542</td>\n",
       "    </tr>\n",
       "    <tr>\n",
       "      <th>3</th>\n",
       "      <td>27</td>\n",
       "      <td>330</td>\n",
       "      <td>0.081818</td>\n",
       "    </tr>\n",
       "    <tr>\n",
       "      <th>4</th>\n",
       "      <td>4</td>\n",
       "      <td>41</td>\n",
       "      <td>0.097561</td>\n",
       "    </tr>\n",
       "    <tr>\n",
       "      <th>5</th>\n",
       "      <td>0</td>\n",
       "      <td>9</td>\n",
       "      <td>0.000000</td>\n",
       "    </tr>\n",
       "  </tbody>\n",
       "</table>\n",
       "</div>"
      ],
      "text/plain": [
       "           sum  count     ratio\n",
       "          debt   debt          \n",
       "children                       \n",
       "0         1063  14091  0.075438\n",
       "1          444   4808  0.092346\n",
       "2          194   2052  0.094542\n",
       "3           27    330  0.081818\n",
       "4            4     41  0.097561\n",
       "5            0      9  0.000000"
      ]
     },
     "execution_count": 23,
     "metadata": {},
     "output_type": "execute_result"
    }
   ],
   "source": [
    "# Ваш код будет здесь. Вы можете создавать новые ячейки.\n",
    "children_debt = data.pivot_table(index='children', values='debt', aggfunc=['sum', 'count'])\n",
    "children_debt['ratio'] = children_debt['sum'] / children_debt['count']\n",
    "children_debt"
   ]
  },
  {
   "cell_type": "markdown",
   "id": "2530a66d",
   "metadata": {},
   "source": [
    "<div class=\"alert alert-warning\">\n",
    "<b>Комментарий 👉</b>\n",
    "\n",
    "Здесь у тебя абсолютно верное решение. Но покажу вариант для нашего случая ещё более короткий, фактически \"однострочник\". \n",
    "    \n",
    "Суть его основана вот на чём: если у нас есть бинарная переменная, здесь это debt, которая принимает значение 1-должник, 0-не должник, то sum по debt будет является количеством должников в группе, а count по debt - общим количеством заемщиков в этой группе. Как узнать % должников? Очевидно, что разделить sum на count, что ты собственно и делаешь. Но смотри, отношение sum к count (это из школьной математики следует) есть ..... среднее, то есть mean, поэтому наш \"однострочник\" выглядит так:\n",
    "\n",
    "\tdata.groupby('children')['debt'].mean()\n",
    "</div>\n"
   ]
  },
  {
   "cell_type": "code",
   "execution_count": 24,
   "id": "34953f32",
   "metadata": {},
   "outputs": [
    {
     "data": {
      "text/plain": [
       "<AxesSubplot:xlabel='children', ylabel='ratio'>"
      ]
     },
     "execution_count": 24,
     "metadata": {},
     "output_type": "execute_result"
    },
    {
     "data": {
      "image/png": "[encoded data removed]",
      "text/plain": [
       "<Figure size 432x288 with 1 Axes>"
      ]
     },
     "metadata": {
      "needs_background": "light"
     },
     "output_type": "display_data"
    }
   ],
   "source": [
    "sns.barplot(data = children_debt, x=children_debt.index, y=children_debt['ratio'])"
   ]
  },
  {
   "cell_type": "markdown",
   "id": "5e11de6e",
   "metadata": {
    "deletable": false,
    "id": "3a6b99ec"
   },
   "source": [
    "**Вывод:** По графику и из таблицы можно заметить, что при любом количестве детей кроме 5 процентов должников составляет примерно 9%.\n",
    "Наименьший процент должников среди людей, у которых нет детей - \\~7,5%. Наибольший процент - среди людей, у которых 4 ребёнка - \\~9,8%. Примерно схожее число должников и среди заёмщиков, у которых 1 ребёнок или 2 ребёнка - 9,2% и 9,5% соответственно.\n",
    "\n",
    "У заёмщиков, у которых 5 детей нет долгов по кредитам, но при этом выборка для данной категории может быть нерепрезентативной, так как группа состоит всего из 9 человек.\n",
    "\n",
    "В заключение можно сказать, что прямой зависимости процента должников от количества детей должника не прослеживается."
   ]
  },
  {
   "cell_type": "markdown",
   "id": "b801a760",
   "metadata": {
    "deletable": false,
    "editable": false,
    "id": "97be82ca"
   },
   "source": [
    "#### 3.2 Есть ли зависимость между семейным положением и возвратом кредита в срок?"
   ]
  },
  {
   "cell_type": "markdown",
   "id": "425f5973",
   "metadata": {},
   "source": [
    "Создадим по аналогии с предыдущим пунктом сводную таблицу `marriage_debt`. Таблица будет состоять из 3 столбцов:\n",
    "* `sum` - количество людей, у которых в данный момент есть задолженность\n",
    "* `count` - количество людей, обладающих определённым семейным положением\n",
    "* `ratio` - отношение числа должников к общему числу людей в данной категории"
   ]
  },
  {
   "cell_type": "code",
   "execution_count": 25,
   "id": "4864f6ae",
   "metadata": {
    "deletable": false,
    "id": "dc3f7ee8"
   },
   "outputs": [
    {
     "data": {
      "text/html": [
       "<div>\n",
       "<style scoped>\n",
       "    .dataframe tbody tr th:only-of-type {\n",
       "        vertical-align: middle;\n",
       "    }\n",
       "\n",
       "    .dataframe tbody tr th {\n",
       "        vertical-align: top;\n",
       "    }\n",
       "\n",
       "    .dataframe thead tr th {\n",
       "        text-align: left;\n",
       "    }\n",
       "</style>\n",
       "<table border=\"1\" class=\"dataframe\">\n",
       "  <thead>\n",
       "    <tr>\n",
       "      <th></th>\n",
       "      <th>family_status_id</th>\n",
       "      <th>family_status</th>\n",
       "      <th>sum</th>\n",
       "      <th>count</th>\n",
       "      <th>ratio</th>\n",
       "    </tr>\n",
       "    <tr>\n",
       "      <th></th>\n",
       "      <th></th>\n",
       "      <th></th>\n",
       "      <th>debt</th>\n",
       "      <th>debt</th>\n",
       "      <th></th>\n",
       "    </tr>\n",
       "  </thead>\n",
       "  <tbody>\n",
       "    <tr>\n",
       "      <th>0</th>\n",
       "      <td>0</td>\n",
       "      <td>женат / замужем</td>\n",
       "      <td>927</td>\n",
       "      <td>12261</td>\n",
       "      <td>0.075606</td>\n",
       "    </tr>\n",
       "    <tr>\n",
       "      <th>1</th>\n",
       "      <td>1</td>\n",
       "      <td>гражданский брак</td>\n",
       "      <td>385</td>\n",
       "      <td>4134</td>\n",
       "      <td>0.093130</td>\n",
       "    </tr>\n",
       "    <tr>\n",
       "      <th>2</th>\n",
       "      <td>2</td>\n",
       "      <td>вдовец / вдова</td>\n",
       "      <td>63</td>\n",
       "      <td>951</td>\n",
       "      <td>0.066246</td>\n",
       "    </tr>\n",
       "    <tr>\n",
       "      <th>3</th>\n",
       "      <td>3</td>\n",
       "      <td>в разводе</td>\n",
       "      <td>84</td>\n",
       "      <td>1189</td>\n",
       "      <td>0.070648</td>\n",
       "    </tr>\n",
       "    <tr>\n",
       "      <th>4</th>\n",
       "      <td>4</td>\n",
       "      <td>Не женат / не замужем</td>\n",
       "      <td>273</td>\n",
       "      <td>2796</td>\n",
       "      <td>0.097639</td>\n",
       "    </tr>\n",
       "  </tbody>\n",
       "</table>\n",
       "</div>"
      ],
      "text/plain": [
       "  family_status_id          family_status  sum  count     ratio\n",
       "                                          debt   debt          \n",
       "0                0        женат / замужем  927  12261  0.075606\n",
       "1                1       гражданский брак  385   4134  0.093130\n",
       "2                2         вдовец / вдова   63    951  0.066246\n",
       "3                3              в разводе   84   1189  0.070648\n",
       "4                4  Не женат / не замужем  273   2796  0.097639"
      ]
     },
     "execution_count": 25,
     "metadata": {},
     "output_type": "execute_result"
    }
   ],
   "source": [
    "# Ваш код будет здесь. Вы можете создавать новые ячейки.\n",
    "family_debt = data.pivot_table(index=['family_status_id', 'family_status'], values='debt', aggfunc=['sum', 'count'])\n",
    "family_debt['ratio'] = family_debt['sum'] / family_debt['count']\n",
    "family_debt = family_debt.reset_index()\n",
    "family_debt"
   ]
  },
  {
   "cell_type": "code",
   "execution_count": 26,
   "id": "ef86978a",
   "metadata": {},
   "outputs": [
    {
     "data": {
      "text/plain": [
       "<AxesSubplot:xlabel='ratio', ylabel='family_status'>"
      ]
     },
     "execution_count": 26,
     "metadata": {},
     "output_type": "execute_result"
    },
    {
     "data": {
      "image/png": "[encoded data removed]",
      "text/plain": [
       "<Figure size 432x288 with 1 Axes>"
      ]
     },
     "metadata": {
      "needs_background": "light"
     },
     "output_type": "display_data"
    }
   ],
   "source": [
    "sns.barplot(data=family_debt, x='ratio', y='family_status')"
   ]
  },
  {
   "cell_type": "markdown",
   "id": "4e358b87",
   "metadata": {
    "deletable": false,
    "id": "1cef7837"
   },
   "source": [
    "**Вывод:** Больше всего долгов имеют неженатые/незамужние должники (\\~10%), меньше всего долгов у вдовцов/вдов (\\~6%). Можно заметить, что число должников среди людей, которые ещё не состоят в официально зарегистрированном браке выше, чем у людей, состоящих в браке или состоявших в нём раньше."
   ]
  },
  {
   "cell_type": "markdown",
   "id": "ee850920",
   "metadata": {
    "deletable": false,
    "editable": false,
    "id": "1e8b2fca"
   },
   "source": [
    "#### 3.3 Есть ли зависимость между уровнем дохода и возвратом кредита в срок?"
   ]
  },
  {
   "cell_type": "markdown",
   "id": "d015fc90",
   "metadata": {
    "deletable": false,
    "id": "cd7e3720"
   },
   "source": [
    "Создадим сводную таблицу `income_group_debt`. Таблица будет состоять из 3 столбцов:\n",
    "* `sum` - количество людей, у которых в данный момент есть задолженность\n",
    "* `count` - количество людей, обладающих определённым семейным положением\n",
    "* `ratio` - отношение числа должников к общему числу людей в данной категории"
   ]
  },
  {
   "cell_type": "code",
   "execution_count": 27,
   "id": "01a3175d",
   "metadata": {
    "scrolled": true
   },
   "outputs": [
    {
     "data": {
      "text/html": [
       "<div>\n",
       "<style scoped>\n",
       "    .dataframe tbody tr th:only-of-type {\n",
       "        vertical-align: middle;\n",
       "    }\n",
       "\n",
       "    .dataframe tbody tr th {\n",
       "        vertical-align: top;\n",
       "    }\n",
       "\n",
       "    .dataframe thead tr th {\n",
       "        text-align: left;\n",
       "    }\n",
       "\n",
       "    .dataframe thead tr:last-of-type th {\n",
       "        text-align: right;\n",
       "    }\n",
       "</style>\n",
       "<table border=\"1\" class=\"dataframe\">\n",
       "  <thead>\n",
       "    <tr>\n",
       "      <th></th>\n",
       "      <th>sum</th>\n",
       "      <th>count</th>\n",
       "      <th>ratio</th>\n",
       "    </tr>\n",
       "    <tr>\n",
       "      <th></th>\n",
       "      <th>debt</th>\n",
       "      <th>debt</th>\n",
       "      <th></th>\n",
       "    </tr>\n",
       "    <tr>\n",
       "      <th>total_income_category</th>\n",
       "      <th></th>\n",
       "      <th></th>\n",
       "      <th></th>\n",
       "    </tr>\n",
       "  </thead>\n",
       "  <tbody>\n",
       "    <tr>\n",
       "      <th>A</th>\n",
       "      <td>2</td>\n",
       "      <td>25</td>\n",
       "      <td>0.080000</td>\n",
       "    </tr>\n",
       "    <tr>\n",
       "      <th>B</th>\n",
       "      <td>354</td>\n",
       "      <td>5014</td>\n",
       "      <td>0.070602</td>\n",
       "    </tr>\n",
       "    <tr>\n",
       "      <th>C</th>\n",
       "      <td>1353</td>\n",
       "      <td>15921</td>\n",
       "      <td>0.084982</td>\n",
       "    </tr>\n",
       "    <tr>\n",
       "      <th>D</th>\n",
       "      <td>21</td>\n",
       "      <td>349</td>\n",
       "      <td>0.060172</td>\n",
       "    </tr>\n",
       "    <tr>\n",
       "      <th>E</th>\n",
       "      <td>2</td>\n",
       "      <td>22</td>\n",
       "      <td>0.090909</td>\n",
       "    </tr>\n",
       "  </tbody>\n",
       "</table>\n",
       "</div>"
      ],
      "text/plain": [
       "                        sum  count     ratio\n",
       "                       debt   debt          \n",
       "total_income_category                       \n",
       "A                         2     25  0.080000\n",
       "B                       354   5014  0.070602\n",
       "C                      1353  15921  0.084982\n",
       "D                        21    349  0.060172\n",
       "E                         2     22  0.090909"
      ]
     },
     "execution_count": 27,
     "metadata": {},
     "output_type": "execute_result"
    }
   ],
   "source": [
    "income_group_debt = data.pivot_table(index=['total_income_category'], values='debt', aggfunc=['sum', 'count'])\n",
    "income_group_debt['ratio'] = income_group_debt['sum'] / income_group_debt['count']\n",
    "income_group_debt"
   ]
  },
  {
   "cell_type": "code",
   "execution_count": 28,
   "id": "9fe23d05",
   "metadata": {
    "scrolled": true
   },
   "outputs": [
    {
     "data": {
      "text/plain": [
       "<AxesSubplot:xlabel='ratio', ylabel='total_income_category'>"
      ]
     },
     "execution_count": 28,
     "metadata": {},
     "output_type": "execute_result"
    },
    {
     "data": {
      "image/png": "[encoded data removed]",
      "text/plain": [
       "<Figure size 432x288 with 1 Axes>"
      ]
     },
     "metadata": {
      "needs_background": "light"
     },
     "output_type": "display_data"
    }
   ],
   "source": [
    "sns.barplot(data=income_group_debt, x='ratio', y=income_group_debt.index)"
   ]
  },
  {
   "cell_type": "markdown",
   "id": "1b893820",
   "metadata": {
    "deletable": false,
    "id": "e8593def"
   },
   "source": [
    "**Вывод:**\n",
    "* Больше всего должников среди заёмщиков с категорией доходов E (0-30тыс.р), процент должников \\~9%.\n",
    "* Меньше всего должников среди заёмщиков с категорией доходов D (30-50 тыс.р), процент должников \\~6%.\n",
    "* Возможно при этом выборка является нерепрезентативной для заёмщиков из категорий A и E, так как их всего 25 и 22 человека соответственно. С учётом этого наибольшее число заёмщиков находится в категории C (50-200 тыс.р), процент должников \\~8,5%.\n",
    "* Прямой зависимости процента должников от категории дохода нет."
   ]
  },
  {
   "cell_type": "markdown",
   "id": "9b76fad4",
   "metadata": {
    "deletable": false,
    "editable": false,
    "id": "99ecbd1f"
   },
   "source": [
    "#### 3.4 Как разные цели кредита влияют на его возврат в срок?"
   ]
  },
  {
   "cell_type": "markdown",
   "id": "6e236b0a",
   "metadata": {
    "deletable": false,
    "id": "2b687290"
   },
   "source": [
    "Создадим сводную таблицу `purpose_debt`. Таблица будет состоять из 3 столбцов:\n",
    "* `sum` - количество людей, у которых в данный момент есть задолженность\n",
    "* `count` - количество людей, взявших кредит под определённую цель\n",
    "* `ratio` - отношение числа должников к общему числу людей в данной категории"
   ]
  },
  {
   "cell_type": "code",
   "execution_count": 29,
   "id": "17aaa369",
   "metadata": {
    "scrolled": true
   },
   "outputs": [
    {
     "data": {
      "text/html": [
       "<div>\n",
       "<style scoped>\n",
       "    .dataframe tbody tr th:only-of-type {\n",
       "        vertical-align: middle;\n",
       "    }\n",
       "\n",
       "    .dataframe tbody tr th {\n",
       "        vertical-align: top;\n",
       "    }\n",
       "\n",
       "    .dataframe thead tr th {\n",
       "        text-align: left;\n",
       "    }\n",
       "\n",
       "    .dataframe thead tr:last-of-type th {\n",
       "        text-align: right;\n",
       "    }\n",
       "</style>\n",
       "<table border=\"1\" class=\"dataframe\">\n",
       "  <thead>\n",
       "    <tr>\n",
       "      <th></th>\n",
       "      <th>sum</th>\n",
       "      <th>count</th>\n",
       "      <th>ratio</th>\n",
       "    </tr>\n",
       "    <tr>\n",
       "      <th></th>\n",
       "      <th>debt</th>\n",
       "      <th>debt</th>\n",
       "      <th></th>\n",
       "    </tr>\n",
       "    <tr>\n",
       "      <th>purpose_category</th>\n",
       "      <th></th>\n",
       "      <th></th>\n",
       "      <th></th>\n",
       "    </tr>\n",
       "  </thead>\n",
       "  <tbody>\n",
       "    <tr>\n",
       "      <th>операции с автомобилем</th>\n",
       "      <td>400</td>\n",
       "      <td>4279</td>\n",
       "      <td>0.093480</td>\n",
       "    </tr>\n",
       "    <tr>\n",
       "      <th>операции с недвижимостью</th>\n",
       "      <td>780</td>\n",
       "      <td>10751</td>\n",
       "      <td>0.072551</td>\n",
       "    </tr>\n",
       "    <tr>\n",
       "      <th>получение образования</th>\n",
       "      <td>369</td>\n",
       "      <td>3988</td>\n",
       "      <td>0.092528</td>\n",
       "    </tr>\n",
       "    <tr>\n",
       "      <th>проведение свадьбы</th>\n",
       "      <td>183</td>\n",
       "      <td>2313</td>\n",
       "      <td>0.079118</td>\n",
       "    </tr>\n",
       "  </tbody>\n",
       "</table>\n",
       "</div>"
      ],
      "text/plain": [
       "                          sum  count     ratio\n",
       "                         debt   debt          \n",
       "purpose_category                              \n",
       "операции с автомобилем    400   4279  0.093480\n",
       "операции с недвижимостью  780  10751  0.072551\n",
       "получение образования     369   3988  0.092528\n",
       "проведение свадьбы        183   2313  0.079118"
      ]
     },
     "execution_count": 29,
     "metadata": {},
     "output_type": "execute_result"
    }
   ],
   "source": [
    "purpose_debt = data.pivot_table(index=['purpose_category'], values='debt', aggfunc=['sum', 'count'])\n",
    "purpose_debt['ratio'] = purpose_debt['sum'] / purpose_debt['count']\n",
    "purpose_debt"
   ]
  },
  {
   "cell_type": "code",
   "execution_count": 30,
   "id": "83ed16dd",
   "metadata": {
    "deletable": false,
    "id": "cd7e3720"
   },
   "outputs": [
    {
     "data": {
      "text/plain": [
       "<AxesSubplot:xlabel='ratio', ylabel='purpose_category'>"
      ]
     },
     "execution_count": 30,
     "metadata": {},
     "output_type": "execute_result"
    },
    {
     "data": {
      "image/png": "[encoded data removed]",
      "text/plain": [
       "<Figure size 432x288 with 1 Axes>"
      ]
     },
     "metadata": {
      "needs_background": "light"
     },
     "output_type": "display_data"
    }
   ],
   "source": [
    "sns.barplot(data=purpose_debt, x='ratio', y=purpose_debt.index)"
   ]
  },
  {
   "cell_type": "markdown",
   "id": "16934054",
   "metadata": {
    "deletable": false,
    "id": "b4bb2ce6"
   },
   "source": [
    "**Вывод:** \n",
    "* Наибольший процент должников среди заёмщиков, берущих кредиты на операции с автомобилем и получение образования (\\~9,3% в обеих группах).\n",
    "* Наименьший процент должников среди заёмщиков, берущих кредит на оперцаии с недвижимостью (\\~7,3%).\n",
    "* Проецнт дожников среди заёмщиков, берущих кредит для проведения свадьбы составляет \\~7,9%."
   ]
  },
  {
   "cell_type": "markdown",
   "id": "74b038d3",
   "metadata": {
    "deletable": false,
    "editable": false,
    "id": "09c3ac4c"
   },
   "source": [
    "#### 3.5 Приведите возможные причины появления пропусков в исходных данных."
   ]
  },
  {
   "cell_type": "markdown",
   "id": "1fe815ce",
   "metadata": {
    "deletable": false,
    "id": "9da2ceda"
   },
   "source": [
    "*Ответ:* Так как количество пропусков в стобцах `days_employed` и `total_income` совпадает, а также по нахоящемуся в строке 12 в необработанной таблице примеру пропуска можно предположить, что  все пропуски в изначальной таблице двойные. Исходя из этого можем предположить 2 варианта:\n",
    "1) Это системная ошибка, которая произошла при выгрузке данных значений\n",
    "2) Заёмщики не предоставили документы, подтверждающие свой рабочий стаж и настоящий доход, потому в таблицах на этих строках пропуски в значениях"
   ]
  },
  {
   "cell_type": "markdown",
   "id": "3f327b7b",
   "metadata": {
    "deletable": false,
    "editable": false,
    "id": "7b0487d6"
   },
   "source": [
    "#### 3.6 Объясните, почему заполнить пропуски медианным значением — лучшее решение для количественных переменных."
   ]
  },
  {
   "cell_type": "markdown",
   "id": "5388d582",
   "metadata": {
    "deletable": false,
    "id": "7ecf2b8e"
   },
   "source": [
    "*Ответ:* Если данные в таблице имеют нормальное распределение, то медиана будет примерно равна среднему значению. Если же в данных имеются какие-то слишком большие (слишком маленькие) значения, которые сильно отличаются от большинства других, то такие данные сильно повлияют на оценку средним значением, но на медиану не повлияют"
   ]
  },
  {
   "cell_type": "markdown",
   "id": "f0223269",
   "metadata": {
    "deletable": false,
    "editable": false,
    "id": "6db5255a"
   },
   "source": [
    "### Шаг 4: общий вывод."
   ]
  },
  {
   "cell_type": "markdown",
   "id": "30b7fdf9",
   "metadata": {},
   "source": [
    "Напишите ваш общий вывод.\n",
    "\n",
    "Было проведено исследование с целью выяснить какие факторы влияют на способность заёмщика не допускать просрочек при погашении кредита. В качестве входных данных использовалась статистика платёжеспособности клиентов.\n",
    "\n",
    "Результаты исследования будут учтены при построении модели кредитного скоринга - специальной системы, которая будет оценивать способность потенциального заёмщика возвращать кредит банку.\n",
    "\n",
    "**Проверяемые гипотезы:**\n",
    "* Гипотеза 1: количество детей заёмщика влияет на способность заёмщика производить выплаты по кредиту в срок;\n",
    "* Гипотеза 2: существует зависимость между семейным положением заёмщика и возвратом кредита в срок;\n",
    "* Гипотеза 3: есть зависимость между уровнем дохода заёмщика и возвратом кредита в срок;\n",
    "* Гипотеза 4: между целью кредита и его возвратом в срок есть зависимость.\n",
    "\n",
    "В результате были получены следующие результаты:\n",
    "\n",
    "**Гипотеза 1 частично подтвердилась:**\n",
    "\n",
    "В обработанной выборке присутствовали заёмщики без детей и с 1, 2, 3, 4, 5 детьми:\n",
    "* 7,5% - процент должников среди заёмщиков без детей;\n",
    "* 9,2% - процент должников среди заёмщиков с 1 ребёнком;\n",
    "* 9,5% - процент должников среди заёмщиков с 2 детьми;\n",
    "* 8,2% - процент должников среди заёмщиков с 3 детьми;*\n",
    "* 9,8% - процент должников среди заёмщиков с 4 детьми;*\n",
    "* 0,0% (!) - процент должников среди заёмщиков с 5 детьми.*\n",
    "\n",
    "\\* - в данной выборке данные категории скорее всего нерепрезентативны, так как суммарно из 21 тысячи записей во всех этих категориях представлено всего 380 записей.\n",
    "\n",
    "*Рекоммендации:* провести дополнительное исследование на большей выборке данных для увеличения точности рассчётов для последних 3 категорий.\n",
    "\n",
    "**Гипотеза 2 подтвердилась:**\n",
    "\n",
    "* Люди, которые ещё не состояли в официально зарегистрированном браке чаще становятся должниками: 9,3% - доля должников среди заёмщиков, которые находятся в гражданском браке; 9,8% - доля должников среди незамужних/неженатых заёмщиков;\n",
    "* Люди, которые состоят или состояли в гражданском браке наоборот реже становятся должниками: 7,6% - процент должников среди женатых/замужников заёмщиков; 6,6% - доля должников среди вдов/вдовцов; 7,1% - доля должников среди заёмщиков состоящих в разводе.\n",
    "\n",
    "**Гипотеза 3 частично подтвердилась:**\n",
    "\n",
    "В обработанной выборке были представлены люди с различными доходами, которые были разделены на 5 категорий:\n",
    "* A - категория с доходами более 1 млн руб.;\n",
    "* B - категория с доходами от 200 тыс. руб. до 1 млн руб.;\n",
    "* C - категория с доходами от 50 тыс. руб. до 200 тыс. руб.;\n",
    "* D - категория с доходами от 30 тыс. руб. до 50 тыс. руб.;\n",
    "* E - категория с доходами до 30 тыс. руб.\n",
    "\n",
    "Для каждой из категорий были получены следующие результаты:\n",
    "* 8,0% - доля должников в категории A; **\n",
    "* 7,1% - доля должников в категории B;\n",
    "* 8,5% - доля должников в категории C;\n",
    "* 6,0% - процент должников в категории D;\n",
    "* 9,1% - процент дожников в категории E. **\n",
    "\n",
    "** - в категориях A (более 1 млн руб.) и E (менее 30 тыс. руб.) суммарно представлено всего 47 человек, поэтому данные по данным категориям можно считать нерепрезентативными.\n",
    "\n",
    "*Рекоммендация:* провести дополнительное исследование на большей выборке данных для групп A и E.\n",
    "\n",
    "**Гипотеза 4 подтвердилась:**\n",
    "\n",
    "* Заёмщики, которые берут кредит на операции с автомобилем и получение образования чаще становятся должниками: в обеих категориях 9,3% должников;\n",
    "* Заёмщики, которые берут кредит на операции с недвижимостью и проведение свадьбы реже становятся должниками: 7,3% - доля должников среди заёмщиков, берущи кредит на операции с недвижимостью; 7,9% - процент должников среди заёмщиков, бнрущих кредит на проведение свадьбы.\n",
    "\n",
    "**Заключение и общие рекоммендации:**\n",
    "\n",
    "1. При создании системы кредитного скоринга точно можно учитывать семейное положение заёмщика и цель для которой заёмщик берёт кредит, что было проверено в гипотезах 2 и 4;\n",
    "2. Гипотезы 1 и 3 требуют дополнительно проверки на более широкой выборке."
   ]
  }
 ],
 "metadata": {
  "ExecuteTimeLog": [
   {
    "duration": 471,
    "start_time": "2022-11-27T17:20:25.625Z"
   },
   {
    "duration": 22,
    "start_time": "2022-11-27T17:20:26.098Z"
   },
   {
    "duration": 15,
    "start_time": "2022-11-27T17:20:26.122Z"
   },
   {
    "duration": 10,
    "start_time": "2022-11-27T17:20:26.139Z"
   },
   {
    "duration": 50,
    "start_time": "2022-11-27T17:20:26.151Z"
   },
   {
    "duration": 4,
    "start_time": "2022-11-27T17:20:26.203Z"
   },
   {
    "duration": 11,
    "start_time": "2022-11-27T17:20:26.208Z"
   },
   {
    "duration": 4,
    "start_time": "2022-11-27T17:20:26.220Z"
   },
   {
    "duration": 9,
    "start_time": "2022-11-27T17:20:26.225Z"
   },
   {
    "duration": 6,
    "start_time": "2022-11-27T17:20:26.235Z"
   },
   {
    "duration": 57,
    "start_time": "2022-11-27T17:20:26.243Z"
   },
   {
    "duration": 9,
    "start_time": "2022-11-27T17:20:26.302Z"
   },
   {
    "duration": 3,
    "start_time": "2022-11-27T17:20:26.312Z"
   },
   {
    "duration": 29,
    "start_time": "2022-11-27T17:20:26.318Z"
   },
   {
    "duration": 20,
    "start_time": "2022-11-27T17:20:26.349Z"
   },
   {
    "duration": 16,
    "start_time": "2022-11-27T17:20:26.377Z"
   },
   {
    "duration": 4,
    "start_time": "2022-11-27T17:20:26.395Z"
   },
   {
    "duration": 13,
    "start_time": "2022-11-27T17:20:26.400Z"
   },
   {
    "duration": 5,
    "start_time": "2022-11-27T17:20:26.414Z"
   },
   {
    "duration": 16,
    "start_time": "2022-11-27T17:20:26.421Z"
   },
   {
    "duration": 15,
    "start_time": "2022-11-27T17:20:26.439Z"
   },
   {
    "duration": 4,
    "start_time": "2022-11-27T17:22:04.793Z"
   },
   {
    "duration": 22,
    "start_time": "2022-11-27T17:22:14.981Z"
   },
   {
    "duration": 11,
    "start_time": "2022-11-27T17:22:48.857Z"
   },
   {
    "duration": 17,
    "start_time": "2022-11-27T17:22:58.053Z"
   },
   {
    "duration": 6,
    "start_time": "2022-11-27T17:23:23.726Z"
   },
   {
    "duration": 19,
    "start_time": "2022-11-27T17:28:00.787Z"
   },
   {
    "duration": 67,
    "start_time": "2022-11-27T17:30:11.102Z"
   },
   {
    "duration": 8,
    "start_time": "2022-11-27T17:32:43.294Z"
   },
   {
    "duration": 9,
    "start_time": "2022-11-27T17:32:51.999Z"
   },
   {
    "duration": 8,
    "start_time": "2022-11-27T17:33:25.594Z"
   },
   {
    "duration": 7,
    "start_time": "2022-11-27T17:33:31.505Z"
   },
   {
    "duration": 9,
    "start_time": "2022-11-27T17:33:44.942Z"
   },
   {
    "duration": 7,
    "start_time": "2022-11-27T17:35:27.032Z"
   },
   {
    "duration": 6,
    "start_time": "2022-11-27T17:35:33.853Z"
   },
   {
    "duration": 4,
    "start_time": "2022-11-27T17:37:50.844Z"
   },
   {
    "duration": 23,
    "start_time": "2022-11-27T17:38:01.541Z"
   },
   {
    "duration": 14,
    "start_time": "2022-11-27T17:49:46.253Z"
   },
   {
    "duration": 15,
    "start_time": "2022-11-27T17:49:53.708Z"
   },
   {
    "duration": 14,
    "start_time": "2022-11-27T17:53:40.689Z"
   },
   {
    "duration": 13,
    "start_time": "2022-11-27T17:54:05.256Z"
   },
   {
    "duration": 14,
    "start_time": "2022-11-27T17:58:21.015Z"
   },
   {
    "duration": 23,
    "start_time": "2022-11-27T17:59:34.015Z"
   },
   {
    "duration": 76,
    "start_time": "2022-11-27T18:01:04.433Z"
   },
   {
    "duration": 14,
    "start_time": "2022-11-27T18:01:11.208Z"
   },
   {
    "duration": 17,
    "start_time": "2022-11-27T18:01:27.900Z"
   },
   {
    "duration": 86,
    "start_time": "2022-11-27T18:03:11.342Z"
   },
   {
    "duration": 20,
    "start_time": "2022-11-27T18:03:16.470Z"
   },
   {
    "duration": 227,
    "start_time": "2022-11-27T18:10:05.832Z"
   },
   {
    "duration": 30,
    "start_time": "2022-11-27T18:10:15.683Z"
   },
   {
    "duration": 997,
    "start_time": "2022-11-27T18:12:55.507Z"
   },
   {
    "duration": 1290,
    "start_time": "2022-11-27T18:16:07.008Z"
   },
   {
    "duration": 30,
    "start_time": "2022-11-27T18:16:23.387Z"
   },
   {
    "duration": 19,
    "start_time": "2022-11-27T18:17:14.855Z"
   },
   {
    "duration": 15,
    "start_time": "2022-11-27T18:17:47.321Z"
   },
   {
    "duration": 18,
    "start_time": "2022-11-27T18:20:03.010Z"
   },
   {
    "duration": 24,
    "start_time": "2022-11-27T18:20:23.333Z"
   },
   {
    "duration": 72,
    "start_time": "2022-11-27T18:20:48.472Z"
   },
   {
    "duration": 17,
    "start_time": "2022-11-27T18:20:57.951Z"
   },
   {
    "duration": 17,
    "start_time": "2022-11-27T18:21:07.468Z"
   },
   {
    "duration": 96,
    "start_time": "2022-11-27T18:21:13.495Z"
   },
   {
    "duration": 19,
    "start_time": "2022-11-27T18:21:44.196Z"
   },
   {
    "duration": 1158,
    "start_time": "2022-11-27T18:22:00.885Z"
   },
   {
    "duration": 17,
    "start_time": "2022-11-27T18:22:13.657Z"
   },
   {
    "duration": 126,
    "start_time": "2022-11-27T18:22:29.252Z"
   },
   {
    "duration": 21,
    "start_time": "2022-11-27T18:39:53.848Z"
   },
   {
    "duration": 2,
    "start_time": "2022-11-27T18:47:50.043Z"
   },
   {
    "duration": 17,
    "start_time": "2022-11-27T18:49:03.724Z"
   },
   {
    "duration": 28,
    "start_time": "2022-11-27T18:49:45.589Z"
   },
   {
    "duration": 68,
    "start_time": "2022-11-27T18:50:22.849Z"
   },
   {
    "duration": 32,
    "start_time": "2022-11-27T18:50:32.483Z"
   },
   {
    "duration": 26,
    "start_time": "2022-11-27T18:53:10.500Z"
   },
   {
    "duration": 16,
    "start_time": "2022-11-27T18:53:11.097Z"
   },
   {
    "duration": 25,
    "start_time": "2022-11-27T18:53:35.621Z"
   },
   {
    "duration": 22,
    "start_time": "2022-11-27T18:53:50.417Z"
   },
   {
    "duration": 20,
    "start_time": "2022-11-27T18:54:11.417Z"
   },
   {
    "duration": 117,
    "start_time": "2022-11-27T18:54:12.104Z"
   },
   {
    "duration": 16,
    "start_time": "2022-11-27T18:54:53.299Z"
   },
   {
    "duration": 29,
    "start_time": "2022-11-27T18:55:13.660Z"
   },
   {
    "duration": 29,
    "start_time": "2022-11-27T18:57:18.669Z"
   },
   {
    "duration": 105,
    "start_time": "2022-11-27T18:58:08.294Z"
   },
   {
    "duration": 108,
    "start_time": "2022-11-27T19:01:38.645Z"
   },
   {
    "duration": 116,
    "start_time": "2022-11-27T19:03:17.243Z"
   },
   {
    "duration": 142,
    "start_time": "2022-11-27T19:03:31.572Z"
   },
   {
    "duration": 183,
    "start_time": "2022-11-27T19:03:54.547Z"
   },
   {
    "duration": 146,
    "start_time": "2022-11-27T19:04:02.423Z"
   },
   {
    "duration": 116,
    "start_time": "2022-11-27T19:07:16.080Z"
   },
   {
    "duration": 130,
    "start_time": "2022-11-27T19:07:23.299Z"
   },
   {
    "duration": 129,
    "start_time": "2022-11-27T19:14:27.857Z"
   },
   {
    "duration": 123,
    "start_time": "2022-11-27T19:14:53.271Z"
   },
   {
    "duration": 70,
    "start_time": "2022-11-27T20:15:29.190Z"
   },
   {
    "duration": 32,
    "start_time": "2022-11-27T20:17:29.227Z"
   },
   {
    "duration": 14,
    "start_time": "2022-11-27T20:17:31.897Z"
   },
   {
    "duration": 35,
    "start_time": "2022-11-27T20:17:42.985Z"
   },
   {
    "duration": 147,
    "start_time": "2022-11-27T20:17:43.824Z"
   },
   {
    "duration": 31,
    "start_time": "2022-11-27T20:18:00.634Z"
   },
   {
    "duration": 34,
    "start_time": "2022-11-27T20:18:04.989Z"
   },
   {
    "duration": 16,
    "start_time": "2022-11-27T20:18:06.395Z"
   },
   {
    "duration": 30,
    "start_time": "2022-11-27T20:18:16.357Z"
   },
   {
    "duration": 138,
    "start_time": "2022-11-27T20:18:17.124Z"
   },
   {
    "duration": 4,
    "start_time": "2022-11-27T20:19:38.399Z"
   },
   {
    "duration": 24,
    "start_time": "2022-11-27T20:20:46.686Z"
   },
   {
    "duration": 32,
    "start_time": "2022-11-27T20:21:26.886Z"
   },
   {
    "duration": 12,
    "start_time": "2022-11-27T20:22:43.158Z"
   },
   {
    "duration": 24,
    "start_time": "2022-11-27T20:22:49.311Z"
   },
   {
    "duration": 17,
    "start_time": "2022-11-27T20:23:12.872Z"
   },
   {
    "duration": 113,
    "start_time": "2022-11-27T20:23:28.803Z"
   },
   {
    "duration": 31,
    "start_time": "2022-11-27T21:08:11.533Z"
   },
   {
    "duration": 186,
    "start_time": "2022-11-27T21:08:33.292Z"
   },
   {
    "duration": 3,
    "start_time": "2022-11-27T21:11:16.090Z"
   },
   {
    "duration": 127,
    "start_time": "2022-11-27T21:12:17.162Z"
   },
   {
    "duration": 134,
    "start_time": "2022-11-27T21:14:34.949Z"
   },
   {
    "duration": 516,
    "start_time": "2022-11-28T14:05:37.626Z"
   },
   {
    "duration": 23,
    "start_time": "2022-11-28T14:05:38.144Z"
   },
   {
    "duration": 15,
    "start_time": "2022-11-28T14:05:38.168Z"
   },
   {
    "duration": 10,
    "start_time": "2022-11-28T14:05:38.185Z"
   },
   {
    "duration": 48,
    "start_time": "2022-11-28T14:05:38.197Z"
   },
   {
    "duration": 3,
    "start_time": "2022-11-28T14:05:38.247Z"
   },
   {
    "duration": 11,
    "start_time": "2022-11-28T14:05:38.252Z"
   },
   {
    "duration": 4,
    "start_time": "2022-11-28T14:05:38.264Z"
   },
   {
    "duration": 11,
    "start_time": "2022-11-28T14:05:38.270Z"
   },
   {
    "duration": 7,
    "start_time": "2022-11-28T14:05:38.283Z"
   },
   {
    "duration": 57,
    "start_time": "2022-11-28T14:05:38.292Z"
   },
   {
    "duration": 9,
    "start_time": "2022-11-28T14:05:38.351Z"
   },
   {
    "duration": 6,
    "start_time": "2022-11-28T14:05:38.362Z"
   },
   {
    "duration": 13,
    "start_time": "2022-11-28T14:05:38.372Z"
   },
   {
    "duration": 39,
    "start_time": "2022-11-28T14:05:38.387Z"
   },
   {
    "duration": 18,
    "start_time": "2022-11-28T14:05:38.428Z"
   },
   {
    "duration": 7,
    "start_time": "2022-11-28T14:05:38.448Z"
   },
   {
    "duration": 18,
    "start_time": "2022-11-28T14:05:38.457Z"
   },
   {
    "duration": 11,
    "start_time": "2022-11-28T14:05:38.477Z"
   },
   {
    "duration": 6,
    "start_time": "2022-11-28T14:05:38.489Z"
   },
   {
    "duration": 27,
    "start_time": "2022-11-28T14:05:38.496Z"
   },
   {
    "duration": 993,
    "start_time": "2022-11-28T14:05:38.525Z"
   },
   {
    "duration": 17,
    "start_time": "2022-11-28T14:05:39.521Z"
   },
   {
    "duration": 29,
    "start_time": "2022-11-28T14:05:39.540Z"
   },
   {
    "duration": 144,
    "start_time": "2022-11-28T14:05:39.571Z"
   },
   {
    "duration": 32,
    "start_time": "2022-11-28T14:05:39.722Z"
   },
   {
    "duration": 160,
    "start_time": "2022-11-28T14:05:39.755Z"
   },
   {
    "duration": 27,
    "start_time": "2022-11-28T14:05:39.916Z"
   },
   {
    "duration": 130,
    "start_time": "2022-11-28T14:05:39.944Z"
   },
   {
    "duration": 26,
    "start_time": "2022-11-28T14:05:40.076Z"
   },
   {
    "duration": 138,
    "start_time": "2022-11-28T14:05:40.104Z"
   },
   {
    "duration": 17,
    "start_time": "2022-11-28T14:07:28.679Z"
   },
   {
    "duration": 71,
    "start_time": "2022-11-28T14:07:47.475Z"
   },
   {
    "duration": 17,
    "start_time": "2022-11-28T14:07:49.853Z"
   },
   {
    "duration": 18,
    "start_time": "2022-11-28T14:08:19.111Z"
   },
   {
    "duration": 17,
    "start_time": "2022-11-28T14:08:41.415Z"
   },
   {
    "duration": 69,
    "start_time": "2022-11-28T14:10:40.405Z"
   },
   {
    "duration": 17,
    "start_time": "2022-11-28T14:10:40.476Z"
   },
   {
    "duration": 29,
    "start_time": "2022-11-28T14:10:40.494Z"
   },
   {
    "duration": 9,
    "start_time": "2022-11-28T14:10:40.525Z"
   },
   {
    "duration": 32,
    "start_time": "2022-11-28T14:10:40.536Z"
   },
   {
    "duration": 3,
    "start_time": "2022-11-28T14:10:40.570Z"
   },
   {
    "duration": 12,
    "start_time": "2022-11-28T14:10:40.575Z"
   },
   {
    "duration": 7,
    "start_time": "2022-11-28T14:10:40.589Z"
   },
   {
    "duration": 30,
    "start_time": "2022-11-28T14:10:40.597Z"
   },
   {
    "duration": 6,
    "start_time": "2022-11-28T14:10:40.630Z"
   },
   {
    "duration": 48,
    "start_time": "2022-11-28T14:10:40.638Z"
   },
   {
    "duration": 10,
    "start_time": "2022-11-28T14:10:40.687Z"
   },
   {
    "duration": 3,
    "start_time": "2022-11-28T14:10:40.699Z"
   },
   {
    "duration": 28,
    "start_time": "2022-11-28T14:10:40.703Z"
   },
   {
    "duration": 34,
    "start_time": "2022-11-28T14:10:40.733Z"
   },
   {
    "duration": 18,
    "start_time": "2022-11-28T14:10:40.769Z"
   },
   {
    "duration": 4,
    "start_time": "2022-11-28T14:10:40.789Z"
   },
   {
    "duration": 17,
    "start_time": "2022-11-28T14:10:40.795Z"
   },
   {
    "duration": 22,
    "start_time": "2022-11-28T14:10:40.814Z"
   },
   {
    "duration": 14,
    "start_time": "2022-11-28T14:10:40.838Z"
   },
   {
    "duration": 12,
    "start_time": "2022-11-28T14:10:40.854Z"
   },
   {
    "duration": 9,
    "start_time": "2022-11-28T14:10:40.867Z"
   },
   {
    "duration": 33,
    "start_time": "2022-11-28T14:10:40.877Z"
   },
   {
    "duration": 132,
    "start_time": "2022-11-28T14:10:40.912Z"
   },
   {
    "duration": 32,
    "start_time": "2022-11-28T14:10:41.045Z"
   },
   {
    "duration": 176,
    "start_time": "2022-11-28T14:10:41.079Z"
   },
   {
    "duration": 24,
    "start_time": "2022-11-28T14:10:41.257Z"
   },
   {
    "duration": 133,
    "start_time": "2022-11-28T14:10:41.284Z"
   },
   {
    "duration": 26,
    "start_time": "2022-11-28T14:10:41.422Z"
   },
   {
    "duration": 222,
    "start_time": "2022-11-28T14:10:41.450Z"
   },
   {
    "duration": 134,
    "start_time": "2022-11-28T14:50:38.060Z"
   },
   {
    "duration": 186,
    "start_time": "2022-11-28T14:51:14.070Z"
   },
   {
    "duration": 129,
    "start_time": "2022-11-28T14:51:28.641Z"
   },
   {
    "duration": 92,
    "start_time": "2022-11-28T14:59:32.850Z"
   },
   {
    "duration": 32,
    "start_time": "2022-11-28T14:59:32.944Z"
   },
   {
    "duration": 28,
    "start_time": "2022-11-28T14:59:32.978Z"
   },
   {
    "duration": 14,
    "start_time": "2022-11-28T14:59:33.008Z"
   },
   {
    "duration": 40,
    "start_time": "2022-11-28T14:59:33.025Z"
   },
   {
    "duration": 3,
    "start_time": "2022-11-28T14:59:33.067Z"
   },
   {
    "duration": 16,
    "start_time": "2022-11-28T14:59:33.073Z"
   },
   {
    "duration": 30,
    "start_time": "2022-11-28T14:59:33.092Z"
   },
   {
    "duration": 7,
    "start_time": "2022-11-28T14:59:33.124Z"
   },
   {
    "duration": 13,
    "start_time": "2022-11-28T14:59:33.132Z"
   },
   {
    "duration": 40,
    "start_time": "2022-11-28T14:59:33.148Z"
   },
   {
    "duration": 10,
    "start_time": "2022-11-28T14:59:33.190Z"
   },
   {
    "duration": 5,
    "start_time": "2022-11-28T14:59:33.223Z"
   },
   {
    "duration": 14,
    "start_time": "2022-11-28T14:59:33.230Z"
   },
   {
    "duration": 23,
    "start_time": "2022-11-28T14:59:33.246Z"
   },
   {
    "duration": 19,
    "start_time": "2022-11-28T14:59:33.271Z"
   },
   {
    "duration": 30,
    "start_time": "2022-11-28T14:59:33.292Z"
   },
   {
    "duration": 16,
    "start_time": "2022-11-28T14:59:33.325Z"
   },
   {
    "duration": 12,
    "start_time": "2022-11-28T14:59:33.343Z"
   },
   {
    "duration": 4,
    "start_time": "2022-11-28T14:59:33.357Z"
   },
   {
    "duration": 27,
    "start_time": "2022-11-28T14:59:33.362Z"
   },
   {
    "duration": 5,
    "start_time": "2022-11-28T14:59:33.391Z"
   },
   {
    "duration": 33,
    "start_time": "2022-11-28T14:59:33.398Z"
   },
   {
    "duration": 144,
    "start_time": "2022-11-28T14:59:33.433Z"
   },
   {
    "duration": 45,
    "start_time": "2022-11-28T14:59:33.579Z"
   },
   {
    "duration": 150,
    "start_time": "2022-11-28T14:59:33.626Z"
   },
   {
    "duration": 25,
    "start_time": "2022-11-28T14:59:33.778Z"
   },
   {
    "duration": 155,
    "start_time": "2022-11-28T14:59:33.805Z"
   },
   {
    "duration": 29,
    "start_time": "2022-11-28T14:59:33.962Z"
   },
   {
    "duration": 212,
    "start_time": "2022-11-28T14:59:33.993Z"
   },
   {
    "duration": 509,
    "start_time": "2022-11-28T15:12:35.682Z"
   },
   {
    "duration": 26,
    "start_time": "2022-11-28T15:12:36.194Z"
   },
   {
    "duration": 25,
    "start_time": "2022-11-28T15:12:36.222Z"
   },
   {
    "duration": 23,
    "start_time": "2022-11-28T15:12:36.249Z"
   },
   {
    "duration": 52,
    "start_time": "2022-11-28T15:12:36.275Z"
   },
   {
    "duration": 6,
    "start_time": "2022-11-28T15:12:36.329Z"
   },
   {
    "duration": 18,
    "start_time": "2022-11-28T15:12:36.337Z"
   },
   {
    "duration": 11,
    "start_time": "2022-11-28T15:12:36.358Z"
   },
   {
    "duration": 25,
    "start_time": "2022-11-28T15:12:36.371Z"
   },
   {
    "duration": 5,
    "start_time": "2022-11-28T15:12:36.399Z"
   },
   {
    "duration": 39,
    "start_time": "2022-11-28T15:12:36.407Z"
   },
   {
    "duration": 11,
    "start_time": "2022-11-28T15:12:36.448Z"
   },
   {
    "duration": 6,
    "start_time": "2022-11-28T15:12:36.461Z"
   },
   {
    "duration": 34,
    "start_time": "2022-11-28T15:12:36.470Z"
   },
   {
    "duration": 19,
    "start_time": "2022-11-28T15:12:36.506Z"
   },
   {
    "duration": 17,
    "start_time": "2022-11-28T15:12:36.527Z"
   },
   {
    "duration": 4,
    "start_time": "2022-11-28T15:12:36.545Z"
   },
   {
    "duration": 18,
    "start_time": "2022-11-28T15:12:36.550Z"
   },
   {
    "duration": 9,
    "start_time": "2022-11-28T15:12:36.570Z"
   },
   {
    "duration": 3,
    "start_time": "2022-11-28T15:12:36.597Z"
   },
   {
    "duration": 13,
    "start_time": "2022-11-28T15:12:36.601Z"
   },
   {
    "duration": 713,
    "start_time": "2022-11-28T15:12:36.616Z"
   },
   {
    "duration": 38,
    "start_time": "2022-11-28T15:12:37.332Z"
   },
   {
    "duration": 164,
    "start_time": "2022-11-28T15:12:37.372Z"
   },
   {
    "duration": 33,
    "start_time": "2022-11-28T15:12:37.538Z"
   },
   {
    "duration": 170,
    "start_time": "2022-11-28T15:12:37.573Z"
   },
   {
    "duration": 26,
    "start_time": "2022-11-28T15:12:37.745Z"
   },
   {
    "duration": 150,
    "start_time": "2022-11-28T15:12:37.772Z"
   },
   {
    "duration": 30,
    "start_time": "2022-11-28T15:12:37.924Z"
   },
   {
    "duration": 169,
    "start_time": "2022-11-28T15:12:37.956Z"
   }
  ],
  "colab": {
   "name": "dpp_template_part2.ipynb",
   "provenance": []
  },
  "kernelspec": {
   "display_name": "Python 3 (ipykernel)",
   "language": "python",
   "name": "python3"
  },
  "language_info": {
   "codemirror_mode": {
    "name": "ipython",
    "version": 3
   },
   "file_extension": ".py",
   "mimetype": "text/x-python",
   "name": "python",
   "nbconvert_exporter": "python",
   "pygments_lexer": "ipython3",
   "version": "3.9.5"
  },
  "toc": {
   "base_numbering": 1,
   "nav_menu": {},
   "number_sections": true,
   "sideBar": true,
   "skip_h1_title": true,
   "title_cell": "Table of Contents",
   "title_sidebar": "Contents",
   "toc_cell": false,
   "toc_position": {},
   "toc_section_display": true,
   "toc_window_display": true
  }
 },
 "nbformat": 4,
 "nbformat_minor": 5
}
