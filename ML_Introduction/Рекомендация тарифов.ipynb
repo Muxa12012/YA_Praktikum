{
 "cells": [
  {
   "cell_type": "markdown",
   "metadata": {},
   "source": [
    "# Рекомендация тарифов"
   ]
  },
  {
   "cell_type": "markdown",
   "metadata": {},
   "source": [
    "В вашем распоряжении данные о поведении клиентов, которые уже перешли на эти тарифы (из проекта курса «Статистический анализ данных»). Нужно построить модель для задачи классификации, которая выберет подходящий тариф. Предобработка данных не понадобится — вы её уже сделали.\n",
    "\n",
    "Постройте модель с максимально большим значением *accuracy*. Чтобы сдать проект успешно, нужно довести долю правильных ответов по крайней мере до 0.75. Проверьте *accuracy* на тестовой выборке самостоятельно."
   ]
  },
  {
   "cell_type": "markdown",
   "metadata": {},
   "source": [
    "## Откройте и изучите файл"
   ]
  },
  {
   "cell_type": "markdown",
   "metadata": {},
   "source": [
    "Подключим следующие библиотеки:\n",
    "- `pandas` для последующей работы с данными и таблицами;\n",
    "- `sklearn` для работы с моделями, а именно:\n",
    "    - `DecisionTreeClassifier` - модель решающего дерева;\n",
    "    - `LogisticRegression` - модель логистической регрессии;\n",
    "    - `RandomForestClassisfier` - модель случайного леса;\n",
    "    - `DummyClassifier` - простейшая модель;\n",
    "    - `train_test_split` - функция для разделения данных на тестовую и тренировочную выборки;\n",
    "    - `accuracy_score` - функция, которая считает accuracy для модели;\n",
    "- `matplotlib.pyplot` для построения графиков."
   ]
  },
  {
   "cell_type": "code",
   "execution_count": 29,
   "metadata": {},
   "outputs": [],
   "source": [
    "import pandas as pd\n",
    "pd.options.mode.chained_assignment = None\n",
    "pd.options.display.max_columns = None\n",
    "from sklearn.tree import DecisionTreeClassifier\n",
    "from sklearn.linear_model import LogisticRegression\n",
    "from sklearn.ensemble import RandomForestClassifier\n",
    "from sklearn.dummy import DummyClassifier\n",
    "from sklearn.model_selection import train_test_split\n",
    "from sklearn.metrics import accuracy_score\n",
    "import matplotlib.pyplot as plt"
   ]
  },
  {
   "cell_type": "markdown",
   "metadata": {},
   "source": [
    "Откроем `.csv` файл с предоставленными данными о поведении клиентов. Запишем таблицу в переменную `data`."
   ]
  },
  {
   "cell_type": "code",
   "execution_count": 30,
   "metadata": {},
   "outputs": [],
   "source": [
    "try:\n",
    "    data = pd.read_csv('/datasets/users_behavior.csv')\n",
    "except:\n",
    "    data = pd.read_csv('https://code.s3.yandex.net/datasets/users_behavior.csv')"
   ]
  },
  {
   "cell_type": "markdown",
   "metadata": {},
   "source": [
    "Выведем первые 20 строк датасета."
   ]
  },
  {
   "cell_type": "code",
   "execution_count": 31,
   "metadata": {},
   "outputs": [
    {
     "data": {
      "text/html": [
       "<div>\n",
       "<style scoped>\n",
       "    .dataframe tbody tr th:only-of-type {\n",
       "        vertical-align: middle;\n",
       "    }\n",
       "\n",
       "    .dataframe tbody tr th {\n",
       "        vertical-align: top;\n",
       "    }\n",
       "\n",
       "    .dataframe thead th {\n",
       "        text-align: right;\n",
       "    }\n",
       "</style>\n",
       "<table border=\"1\" class=\"dataframe\">\n",
       "  <thead>\n",
       "    <tr style=\"text-align: right;\">\n",
       "      <th></th>\n",
       "      <th>calls</th>\n",
       "      <th>minutes</th>\n",
       "      <th>messages</th>\n",
       "      <th>mb_used</th>\n",
       "      <th>is_ultra</th>\n",
       "    </tr>\n",
       "  </thead>\n",
       "  <tbody>\n",
       "    <tr>\n",
       "      <th>0</th>\n",
       "      <td>40.0</td>\n",
       "      <td>311.90</td>\n",
       "      <td>83.0</td>\n",
       "      <td>19915.42</td>\n",
       "      <td>0</td>\n",
       "    </tr>\n",
       "    <tr>\n",
       "      <th>1</th>\n",
       "      <td>85.0</td>\n",
       "      <td>516.75</td>\n",
       "      <td>56.0</td>\n",
       "      <td>22696.96</td>\n",
       "      <td>0</td>\n",
       "    </tr>\n",
       "    <tr>\n",
       "      <th>2</th>\n",
       "      <td>77.0</td>\n",
       "      <td>467.66</td>\n",
       "      <td>86.0</td>\n",
       "      <td>21060.45</td>\n",
       "      <td>0</td>\n",
       "    </tr>\n",
       "    <tr>\n",
       "      <th>3</th>\n",
       "      <td>106.0</td>\n",
       "      <td>745.53</td>\n",
       "      <td>81.0</td>\n",
       "      <td>8437.39</td>\n",
       "      <td>1</td>\n",
       "    </tr>\n",
       "    <tr>\n",
       "      <th>4</th>\n",
       "      <td>66.0</td>\n",
       "      <td>418.74</td>\n",
       "      <td>1.0</td>\n",
       "      <td>14502.75</td>\n",
       "      <td>0</td>\n",
       "    </tr>\n",
       "    <tr>\n",
       "      <th>5</th>\n",
       "      <td>58.0</td>\n",
       "      <td>344.56</td>\n",
       "      <td>21.0</td>\n",
       "      <td>15823.37</td>\n",
       "      <td>0</td>\n",
       "    </tr>\n",
       "    <tr>\n",
       "      <th>6</th>\n",
       "      <td>57.0</td>\n",
       "      <td>431.64</td>\n",
       "      <td>20.0</td>\n",
       "      <td>3738.90</td>\n",
       "      <td>1</td>\n",
       "    </tr>\n",
       "    <tr>\n",
       "      <th>7</th>\n",
       "      <td>15.0</td>\n",
       "      <td>132.40</td>\n",
       "      <td>6.0</td>\n",
       "      <td>21911.60</td>\n",
       "      <td>0</td>\n",
       "    </tr>\n",
       "    <tr>\n",
       "      <th>8</th>\n",
       "      <td>7.0</td>\n",
       "      <td>43.39</td>\n",
       "      <td>3.0</td>\n",
       "      <td>2538.67</td>\n",
       "      <td>1</td>\n",
       "    </tr>\n",
       "    <tr>\n",
       "      <th>9</th>\n",
       "      <td>90.0</td>\n",
       "      <td>665.41</td>\n",
       "      <td>38.0</td>\n",
       "      <td>17358.61</td>\n",
       "      <td>0</td>\n",
       "    </tr>\n",
       "    <tr>\n",
       "      <th>10</th>\n",
       "      <td>82.0</td>\n",
       "      <td>560.51</td>\n",
       "      <td>20.0</td>\n",
       "      <td>9619.53</td>\n",
       "      <td>1</td>\n",
       "    </tr>\n",
       "    <tr>\n",
       "      <th>11</th>\n",
       "      <td>45.0</td>\n",
       "      <td>344.32</td>\n",
       "      <td>13.0</td>\n",
       "      <td>19898.81</td>\n",
       "      <td>0</td>\n",
       "    </tr>\n",
       "    <tr>\n",
       "      <th>12</th>\n",
       "      <td>51.0</td>\n",
       "      <td>437.13</td>\n",
       "      <td>61.0</td>\n",
       "      <td>21523.58</td>\n",
       "      <td>0</td>\n",
       "    </tr>\n",
       "    <tr>\n",
       "      <th>13</th>\n",
       "      <td>56.0</td>\n",
       "      <td>433.07</td>\n",
       "      <td>16.0</td>\n",
       "      <td>16702.36</td>\n",
       "      <td>0</td>\n",
       "    </tr>\n",
       "    <tr>\n",
       "      <th>14</th>\n",
       "      <td>108.0</td>\n",
       "      <td>587.90</td>\n",
       "      <td>0.0</td>\n",
       "      <td>14406.50</td>\n",
       "      <td>1</td>\n",
       "    </tr>\n",
       "    <tr>\n",
       "      <th>15</th>\n",
       "      <td>6.0</td>\n",
       "      <td>22.13</td>\n",
       "      <td>0.0</td>\n",
       "      <td>2710.09</td>\n",
       "      <td>0</td>\n",
       "    </tr>\n",
       "    <tr>\n",
       "      <th>16</th>\n",
       "      <td>2.0</td>\n",
       "      <td>18.73</td>\n",
       "      <td>0.0</td>\n",
       "      <td>588.89</td>\n",
       "      <td>0</td>\n",
       "    </tr>\n",
       "    <tr>\n",
       "      <th>17</th>\n",
       "      <td>26.0</td>\n",
       "      <td>163.62</td>\n",
       "      <td>4.0</td>\n",
       "      <td>16870.34</td>\n",
       "      <td>0</td>\n",
       "    </tr>\n",
       "    <tr>\n",
       "      <th>18</th>\n",
       "      <td>79.0</td>\n",
       "      <td>532.62</td>\n",
       "      <td>90.0</td>\n",
       "      <td>19908.31</td>\n",
       "      <td>0</td>\n",
       "    </tr>\n",
       "    <tr>\n",
       "      <th>19</th>\n",
       "      <td>49.0</td>\n",
       "      <td>341.67</td>\n",
       "      <td>81.0</td>\n",
       "      <td>11770.28</td>\n",
       "      <td>1</td>\n",
       "    </tr>\n",
       "  </tbody>\n",
       "</table>\n",
       "</div>"
      ],
      "text/plain": [
       "    calls  minutes  messages   mb_used  is_ultra\n",
       "0    40.0   311.90      83.0  19915.42         0\n",
       "1    85.0   516.75      56.0  22696.96         0\n",
       "2    77.0   467.66      86.0  21060.45         0\n",
       "3   106.0   745.53      81.0   8437.39         1\n",
       "4    66.0   418.74       1.0  14502.75         0\n",
       "5    58.0   344.56      21.0  15823.37         0\n",
       "6    57.0   431.64      20.0   3738.90         1\n",
       "7    15.0   132.40       6.0  21911.60         0\n",
       "8     7.0    43.39       3.0   2538.67         1\n",
       "9    90.0   665.41      38.0  17358.61         0\n",
       "10   82.0   560.51      20.0   9619.53         1\n",
       "11   45.0   344.32      13.0  19898.81         0\n",
       "12   51.0   437.13      61.0  21523.58         0\n",
       "13   56.0   433.07      16.0  16702.36         0\n",
       "14  108.0   587.90       0.0  14406.50         1\n",
       "15    6.0    22.13       0.0   2710.09         0\n",
       "16    2.0    18.73       0.0    588.89         0\n",
       "17   26.0   163.62       4.0  16870.34         0\n",
       "18   79.0   532.62      90.0  19908.31         0\n",
       "19   49.0   341.67      81.0  11770.28         1"
      ]
     },
     "execution_count": 31,
     "metadata": {},
     "output_type": "execute_result"
    }
   ],
   "source": [
    "data.head(20)"
   ]
  },
  {
   "cell_type": "markdown",
   "metadata": {},
   "source": [
    "Также получим основную информацию о датасете при помощи метода `info()`."
   ]
  },
  {
   "cell_type": "code",
   "execution_count": 32,
   "metadata": {},
   "outputs": [
    {
     "name": "stdout",
     "output_type": "stream",
     "text": [
      "<class 'pandas.core.frame.DataFrame'>\n",
      "RangeIndex: 3214 entries, 0 to 3213\n",
      "Data columns (total 5 columns):\n",
      " #   Column    Non-Null Count  Dtype  \n",
      "---  ------    --------------  -----  \n",
      " 0   calls     3214 non-null   float64\n",
      " 1   minutes   3214 non-null   float64\n",
      " 2   messages  3214 non-null   float64\n",
      " 3   mb_used   3214 non-null   float64\n",
      " 4   is_ultra  3214 non-null   int64  \n",
      "dtypes: float64(4), int64(1)\n",
      "memory usage: 125.7 KB\n"
     ]
    }
   ],
   "source": [
    "data.info()"
   ]
  },
  {
   "cell_type": "markdown",
   "metadata": {},
   "source": [
    "Получим общую статистическую информацию овыборке при помощи метода `describe()`."
   ]
  },
  {
   "cell_type": "code",
   "execution_count": 33,
   "metadata": {},
   "outputs": [
    {
     "data": {
      "text/html": [
       "<div>\n",
       "<style scoped>\n",
       "    .dataframe tbody tr th:only-of-type {\n",
       "        vertical-align: middle;\n",
       "    }\n",
       "\n",
       "    .dataframe tbody tr th {\n",
       "        vertical-align: top;\n",
       "    }\n",
       "\n",
       "    .dataframe thead th {\n",
       "        text-align: right;\n",
       "    }\n",
       "</style>\n",
       "<table border=\"1\" class=\"dataframe\">\n",
       "  <thead>\n",
       "    <tr style=\"text-align: right;\">\n",
       "      <th></th>\n",
       "      <th>calls</th>\n",
       "      <th>minutes</th>\n",
       "      <th>messages</th>\n",
       "      <th>mb_used</th>\n",
       "      <th>is_ultra</th>\n",
       "    </tr>\n",
       "  </thead>\n",
       "  <tbody>\n",
       "    <tr>\n",
       "      <th>count</th>\n",
       "      <td>3214.000000</td>\n",
       "      <td>3214.000000</td>\n",
       "      <td>3214.000000</td>\n",
       "      <td>3214.000000</td>\n",
       "      <td>3214.000000</td>\n",
       "    </tr>\n",
       "    <tr>\n",
       "      <th>mean</th>\n",
       "      <td>63.038892</td>\n",
       "      <td>438.208787</td>\n",
       "      <td>38.281269</td>\n",
       "      <td>17207.673836</td>\n",
       "      <td>0.306472</td>\n",
       "    </tr>\n",
       "    <tr>\n",
       "      <th>std</th>\n",
       "      <td>33.236368</td>\n",
       "      <td>234.569872</td>\n",
       "      <td>36.148326</td>\n",
       "      <td>7570.968246</td>\n",
       "      <td>0.461100</td>\n",
       "    </tr>\n",
       "    <tr>\n",
       "      <th>min</th>\n",
       "      <td>0.000000</td>\n",
       "      <td>0.000000</td>\n",
       "      <td>0.000000</td>\n",
       "      <td>0.000000</td>\n",
       "      <td>0.000000</td>\n",
       "    </tr>\n",
       "    <tr>\n",
       "      <th>25%</th>\n",
       "      <td>40.000000</td>\n",
       "      <td>274.575000</td>\n",
       "      <td>9.000000</td>\n",
       "      <td>12491.902500</td>\n",
       "      <td>0.000000</td>\n",
       "    </tr>\n",
       "    <tr>\n",
       "      <th>50%</th>\n",
       "      <td>62.000000</td>\n",
       "      <td>430.600000</td>\n",
       "      <td>30.000000</td>\n",
       "      <td>16943.235000</td>\n",
       "      <td>0.000000</td>\n",
       "    </tr>\n",
       "    <tr>\n",
       "      <th>75%</th>\n",
       "      <td>82.000000</td>\n",
       "      <td>571.927500</td>\n",
       "      <td>57.000000</td>\n",
       "      <td>21424.700000</td>\n",
       "      <td>1.000000</td>\n",
       "    </tr>\n",
       "    <tr>\n",
       "      <th>max</th>\n",
       "      <td>244.000000</td>\n",
       "      <td>1632.060000</td>\n",
       "      <td>224.000000</td>\n",
       "      <td>49745.730000</td>\n",
       "      <td>1.000000</td>\n",
       "    </tr>\n",
       "  </tbody>\n",
       "</table>\n",
       "</div>"
      ],
      "text/plain": [
       "             calls      minutes     messages       mb_used     is_ultra\n",
       "count  3214.000000  3214.000000  3214.000000   3214.000000  3214.000000\n",
       "mean     63.038892   438.208787    38.281269  17207.673836     0.306472\n",
       "std      33.236368   234.569872    36.148326   7570.968246     0.461100\n",
       "min       0.000000     0.000000     0.000000      0.000000     0.000000\n",
       "25%      40.000000   274.575000     9.000000  12491.902500     0.000000\n",
       "50%      62.000000   430.600000    30.000000  16943.235000     0.000000\n",
       "75%      82.000000   571.927500    57.000000  21424.700000     1.000000\n",
       "max     244.000000  1632.060000   224.000000  49745.730000     1.000000"
      ]
     },
     "execution_count": 33,
     "metadata": {},
     "output_type": "execute_result"
    }
   ],
   "source": [
    "data.describe()"
   ]
  },
  {
   "cell_type": "markdown",
   "metadata": {},
   "source": [
    "Построим гистограммы по имеющимся столбцам."
   ]
  },
  {
   "cell_type": "code",
   "execution_count": 34,
   "metadata": {},
   "outputs": [
    {
     "data": {
      "text/plain": [
       "array([[<AxesSubplot:title={'center':'calls'}>,\n",
       "        <AxesSubplot:title={'center':'minutes'}>],\n",
       "       [<AxesSubplot:title={'center':'messages'}>,\n",
       "        <AxesSubplot:title={'center':'mb_used'}>],\n",
       "       [<AxesSubplot:title={'center':'is_ultra'}>, <AxesSubplot:>]],\n",
       "      dtype=object)"
      ]
     },
     "execution_count": 34,
     "metadata": {},
     "output_type": "execute_result"
    },
    {
     "data": {
      "image/png": "[encoded data removed]",
      "text/plain": [
       "<Figure size 1080x1080 with 6 Axes>"
      ]
     },
     "metadata": {
      "needs_background": "light"
     },
     "output_type": "display_data"
    }
   ],
   "source": [
    "data.hist(figsize=(15, 15), bins=50)"
   ]
  },
  {
   "cell_type": "markdown",
   "metadata": {},
   "source": [
    "Таким образом можем сказать, что в представленной выборке представлены данные о 3214 клиентах, в таблице не содержится пропусков, но при этом заметно, что присутствуют выбросы и распределение похоже на биномиальное."
   ]
  },
  {
   "cell_type": "markdown",
   "metadata": {},
   "source": [
    "## Разбейте данные на выборки"
   ]
  },
  {
   "cell_type": "markdown",
   "metadata": {},
   "source": [
    "Разобьём данные на 3 выборки: обучающую, тестовую и валидационную.\n",
    "\n",
    "Так как нам предоставлена изначально всего лишь одна выборка, то будем разбивать её на 3 части в следующем отношении:\n",
    "* 60% изначальной выборки выделим в обучающую выборку;\n",
    "* 20% изначальной выборки выделим в валидационную выборку;\n",
    "* Оставшиеся 20% изначальной выборки выделим в тестовую выборку.\n",
    "\n",
    "Для этого разделения дважды воспользуемся функцией `test_train_split` из библиотеки `sklearn`.\n",
    "\n",
    "В самой выборке целевой признак содержится в колонке `is_ultra`. Запишем целевой признак в `target`, остальные признаки в `features`.\n",
    "\n",
    "Будем использовать везде параметр `random_state=12345` для того, чтобы в будущем результаты эксперимента можно было повторить."
   ]
  },
  {
   "cell_type": "code",
   "execution_count": 35,
   "metadata": {},
   "outputs": [],
   "source": [
    "target = data['is_ultra']\n",
    "features = data.drop(columns=['is_ultra'])\n",
    "\n",
    "features_train, features_valid, target_train, target_valid = train_test_split(\n",
    "    features, target, test_size=0.4, random_state=12345)\n",
    "features_valid, features_test, target_valid, target_test = train_test_split(\n",
    "    features_valid, target_valid, test_size=0.5, random_state=12345)"
   ]
  },
  {
   "cell_type": "markdown",
   "metadata": {},
   "source": [
    "Проверим получившиеся выборки через `info()`."
   ]
  },
  {
   "cell_type": "code",
   "execution_count": 36,
   "metadata": {},
   "outputs": [
    {
     "name": "stdout",
     "output_type": "stream",
     "text": [
      "<class 'pandas.core.frame.DataFrame'>\n",
      "Int64Index: 1928 entries, 3027 to 482\n",
      "Data columns (total 4 columns):\n",
      " #   Column    Non-Null Count  Dtype  \n",
      "---  ------    --------------  -----  \n",
      " 0   calls     1928 non-null   float64\n",
      " 1   minutes   1928 non-null   float64\n",
      " 2   messages  1928 non-null   float64\n",
      " 3   mb_used   1928 non-null   float64\n",
      "dtypes: float64(4)\n",
      "memory usage: 75.3 KB\n",
      "\n",
      "<class 'pandas.core.frame.DataFrame'>\n",
      "Int64Index: 643 entries, 1386 to 3197\n",
      "Data columns (total 4 columns):\n",
      " #   Column    Non-Null Count  Dtype  \n",
      "---  ------    --------------  -----  \n",
      " 0   calls     643 non-null    float64\n",
      " 1   minutes   643 non-null    float64\n",
      " 2   messages  643 non-null    float64\n",
      " 3   mb_used   643 non-null    float64\n",
      "dtypes: float64(4)\n",
      "memory usage: 25.1 KB\n",
      "\n",
      "<class 'pandas.core.frame.DataFrame'>\n",
      "Int64Index: 643 entries, 160 to 2313\n",
      "Data columns (total 4 columns):\n",
      " #   Column    Non-Null Count  Dtype  \n",
      "---  ------    --------------  -----  \n",
      " 0   calls     643 non-null    float64\n",
      " 1   minutes   643 non-null    float64\n",
      " 2   messages  643 non-null    float64\n",
      " 3   mb_used   643 non-null    float64\n",
      "dtypes: float64(4)\n",
      "memory usage: 25.1 KB\n"
     ]
    }
   ],
   "source": [
    "features_train.info()\n",
    "print()\n",
    "features_valid.info()\n",
    "print()\n",
    "features_test.info()"
   ]
  },
  {
   "cell_type": "markdown",
   "metadata": {},
   "source": [
    "Таким образом мы получили 3 выборки:\n",
    "* Обучающаю выборку на 1928 значений;\n",
    "* Валидационную и тестовую выборки на 643 значения.\n",
    "\n",
    "Перейдём к обучению моделей."
   ]
  },
  {
   "cell_type": "markdown",
   "metadata": {},
   "source": [
    "## Исследуйте модели"
   ]
  },
  {
   "cell_type": "markdown",
   "metadata": {},
   "source": [
    "В данном случае нам предстоит решить задачу классификации: Подходит ли клиенту тариф \"Ультра\" или не подходит с вариантами ответа `1` или `0`. Соответственно для задачи классификации мы можем использовать три различных модели:\n",
    "* Решающее дерево;\n",
    "* Случайный лес;\n",
    "* Логистическая регрессия.\n",
    "\n",
    "### Решающее дерево\n",
    "\n",
    "Начнём с решающего дерева.\n",
    "Поступим следующим образом:\n",
    "* Будем задавать гиперпараметр `max_depth` в цикле от 1 до 15 последовательно.\n",
    "* На каждом проходе цикла будем проверять модель на валидационной выборке и если `accuracy` и, если модель показывает более высокую точность чем предыдущая, сохраним саму модель в переменной `best_model`, а параметр глубины в переменной `best_tree_depth`."
   ]
  },
  {
   "cell_type": "code",
   "execution_count": 37,
   "metadata": {},
   "outputs": [
    {
     "data": {
      "image/png": "[encoded data removed]",
      "text/plain": [
       "<Figure size 720x360 with 1 Axes>"
      ]
     },
     "metadata": {
      "needs_background": "light"
     },
     "output_type": "display_data"
    },
    {
     "name": "stdout",
     "output_type": "stream",
     "text": [
      "Наилучшая точность модели: 78.5% была достигнута при глубине решающего дерева 3\n"
     ]
    }
   ],
   "source": [
    "acc_tree = 0\n",
    "acc_tree_best = 0\n",
    "best_depth = 0\n",
    "depth_list = [*range(1,16)]\n",
    "acc_tree_list = []\n",
    "for depth in range(1,16):\n",
    "    model_tree = DecisionTreeClassifier(max_depth=depth, random_state=12345)\n",
    "    model_tree.fit(features_train, target_train)\n",
    "    predictions_tree = model_tree.predict(features_valid)\n",
    "    acc_tree = accuracy_score(predictions_tree, target_valid)\n",
    "    acc_tree_list.append(acc_tree)\n",
    "    if acc_tree > acc_tree_best:\n",
    "        model_tree_best = model_tree\n",
    "        best_depth = depth\n",
    "        acc_tree_best = acc_tree\n",
    "fig, ax = plt.subplots(figsize=(10, 5))\n",
    "ax.plot(depth_list, acc_tree_list)\n",
    "plt.show()\n",
    "print(f'Наилучшая точность модели: {acc_tree_best:.1%} была достигнута при глубине решающего дерева {best_depth}')"
   ]
  },
  {
   "cell_type": "markdown",
   "metadata": {},
   "source": [
    "На проверках на валидационных выборках мы получили модель с наилучшим значением `accuracy` 78,5% при глубине решающего дерева равной 3. Как можно заметить после достижения глубины дерева равной 10 точность обученной модель начинает падать, соответственно происходит переобучение.\n",
    "\n",
    "### Случайный лес\n",
    "\n",
    "Теперь построимм модель на основе случайного леса. У случайноо леса также есть несколько гиперпараметров, которые можно изменять: `n_estimators` - количество решающих деревьев леса, `max_depth` - максимальная глубина решающего дерева. Поступим следующим образом:\n",
    "\n",
    "* Создадим цикл, в котором будем изменять количество решающих деревьев от 10 до 200 с шагом в 10.\n",
    "* Создадим вложенный цикл, в котором будем изменять максимальную глубину решающего дерева от 1 до 15 с шагом в 1.\n",
    "* Во вложенном цикле будем создавать модель, тренировать и проверять на валидационной выборке. Если точность модели выше, чем максимальная достигнутая до этого точность, будем записывать модель, глубину решающего дерева и количество деревьев в специальные переменные.\n",
    "* В конце выведем графики, на которых покажем точность моделей в зависимости от параметров.\n",
    "\n",
    "Также будем испоьзовать гиперпараметр `random_state=12345` для воспроизводимости результатов."
   ]
  },
  {
   "cell_type": "code",
   "execution_count": 38,
   "metadata": {},
   "outputs": [
    {
     "data": {
      "image/png": "[encoded data removed]",
      "text/plain": [
       "<Figure size 1080x720 with 1 Axes>"
      ]
     },
     "metadata": {
      "needs_background": "light"
     },
     "output_type": "display_data"
    },
    {
     "name": "stdout",
     "output_type": "stream",
     "text": [
      "Наилучшая точность модели: 80.9% была достигнута при глубине решающего дерева 8 и количестве деревьев равном 40\n"
     ]
    }
   ],
   "source": [
    "fig, ax = plt.subplots(figsize=(15, 10))\n",
    "ax.set_title('Графики accuracy в зависимости от количества деревьев леса')\n",
    "\n",
    "acc_forest = 0\n",
    "acc_forest_best = 0\n",
    "best_depth_forest = 0\n",
    "best_estimators = 0\n",
    "estimators_list = [*range(10, 201, 10)]\n",
    "depth_forest_list = [*range(1, 16)]\n",
    "acc_forest_list = []\n",
    "for estimators in range(10, 201, 10):\n",
    "    acc_forest_list.append([])\n",
    "    for depth in range(1, 16):\n",
    "        model_forest = RandomForestClassifier(max_depth=depth, n_estimators=estimators, random_state=12345)\n",
    "        model_forest.fit(features_train, target_train)\n",
    "        acc_forest = model_forest.score(features_valid, target_valid)\n",
    "        if acc_forest > acc_forest_best:\n",
    "            acc_forest_best = acc_forest\n",
    "            best_depth_forest = depth\n",
    "            best_model_forest = model_forest\n",
    "            best_estimators = estimators\n",
    "        acc_forest_list[int(estimators / 10) - 1].append(acc_forest)\n",
    "    ax.plot(depth_forest_list, acc_forest_list[int(estimators / 10) - 1], label = str(estimators))\n",
    "ax.legend(title='Количество деревьев леса', loc=1)\n",
    "ax.set_xlim(0, 20)\n",
    "plt.show()\n",
    "print(f'Наилучшая точность модели: {acc_forest_best:.1%} была достигнута при глубине решающего дерева {best_depth_forest} и количестве деревьев равном {best_estimators}')"
   ]
  },
  {
   "cell_type": "markdown",
   "metadata": {},
   "source": [
    "На проверках на валидационных выборках мы получили модель с наилучшим значением `accuracy` 80,9% при глубине решающего дерева равной 8 и количестве деревьев равному 40. Как можно заметить после достижения глубины дерева равной 7 или 8 точность большинства моделей начинает снижаться и вероятно в этот момент происходит переобучение.\n",
    "\n",
    "Следует заметить, что модель обучалась сильно дольше, чем модель случайного леса.\n",
    "\n",
    "### Логистическая регрессия\n",
    "\n",
    "Построим модель на основе логистической регрессии. У этой модели есть гиперпараметр `max_iter` - количество итераций обучения. Поступим с данной моделью следующим образом:\n",
    "\n",
    "* В цикле переберём значения `max_iter` от 10 до 300 с шагом в 10;\n",
    "* На каждом проходе цикла будем проверять модель на валидационной выборке и, если модель показывает более высокую точность чем наилучшая, сохраним модель и максимальное число итераций для этой модели;\n",
    "* В конце выведем точности всех полученных моделей в виде графика.\n",
    "\n",
    "Также будем использовать гиперпараметры `random_state=12345` для воспроизводимости эксперимента и `solver='lbfgs'` в качестве выбранного решателя."
   ]
  },
  {
   "cell_type": "code",
   "execution_count": 39,
   "metadata": {
    "scrolled": true
   },
   "outputs": [
    {
     "name": "stderr",
     "output_type": "stream",
     "text": [
      "/opt/conda/lib/python3.9/site-packages/sklearn/linear_model/_logistic.py:763: ConvergenceWarning: lbfgs failed to converge (status=1):\n",
      "STOP: TOTAL NO. of ITERATIONS REACHED LIMIT.\n",
      "\n",
      "Increase the number of iterations (max_iter) or scale the data as shown in:\n",
      "    https://scikit-learn.org/stable/modules/preprocessing.html\n",
      "Please also refer to the documentation for alternative solver options:\n",
      "    https://scikit-learn.org/stable/modules/linear_model.html#logistic-regression\n",
      "  n_iter_i = _check_optimize_result(\n",
      "/opt/conda/lib/python3.9/site-packages/sklearn/linear_model/_logistic.py:763: ConvergenceWarning: lbfgs failed to converge (status=1):\n",
      "STOP: TOTAL NO. of ITERATIONS REACHED LIMIT.\n",
      "\n",
      "Increase the number of iterations (max_iter) or scale the data as shown in:\n",
      "    https://scikit-learn.org/stable/modules/preprocessing.html\n",
      "Please also refer to the documentation for alternative solver options:\n",
      "    https://scikit-learn.org/stable/modules/linear_model.html#logistic-regression\n",
      "  n_iter_i = _check_optimize_result(\n",
      "/opt/conda/lib/python3.9/site-packages/sklearn/linear_model/_logistic.py:763: ConvergenceWarning: lbfgs failed to converge (status=1):\n",
      "STOP: TOTAL NO. of ITERATIONS REACHED LIMIT.\n",
      "\n",
      "Increase the number of iterations (max_iter) or scale the data as shown in:\n",
      "    https://scikit-learn.org/stable/modules/preprocessing.html\n",
      "Please also refer to the documentation for alternative solver options:\n",
      "    https://scikit-learn.org/stable/modules/linear_model.html#logistic-regression\n",
      "  n_iter_i = _check_optimize_result(\n",
      "/opt/conda/lib/python3.9/site-packages/sklearn/linear_model/_logistic.py:763: ConvergenceWarning: lbfgs failed to converge (status=1):\n",
      "STOP: TOTAL NO. of ITERATIONS REACHED LIMIT.\n",
      "\n",
      "Increase the number of iterations (max_iter) or scale the data as shown in:\n",
      "    https://scikit-learn.org/stable/modules/preprocessing.html\n",
      "Please also refer to the documentation for alternative solver options:\n",
      "    https://scikit-learn.org/stable/modules/linear_model.html#logistic-regression\n",
      "  n_iter_i = _check_optimize_result(\n"
     ]
    },
    {
     "data": {
      "image/png": "[encoded data removed]",
      "text/plain": [
       "<Figure size 1080x720 with 1 Axes>"
      ]
     },
     "metadata": {
      "needs_background": "light"
     },
     "output_type": "display_data"
    },
    {
     "name": "stdout",
     "output_type": "stream",
     "text": [
      "Наилучшая точность модели: 71.1% была достигнута при максимальном числе итераций 40\n"
     ]
    }
   ],
   "source": [
    "fig, ax = plt.subplots(figsize=(15, 10))\n",
    "ax.set_title('Accuracy модели в зависимости от количества итераций обучения')\n",
    "\n",
    "acc_regression = 0\n",
    "acc_best_regression = 0\n",
    "best_iter_regression = 0\n",
    "iter_list = [*range(10, 301, 10)]\n",
    "acc_regression_list = []\n",
    "for max_it in range(10, 301, 10):\n",
    "    model_regression = LogisticRegression(max_iter=max_it, solver='lbfgs', random_state=12345)\n",
    "    model_regression.fit(features_train, target_train)\n",
    "    acc_regression = model_regression.score(features_valid, target_valid)\n",
    "    acc_regression_list.append(acc_regression)\n",
    "    if acc_regression > acc_best_regression:\n",
    "        best_model_regression = model_regression\n",
    "        acc_best_regression = acc_regression\n",
    "        best_iter_regression = max_it\n",
    "ax.plot(iter_list, acc_regression_list)\n",
    "plt.show()\n",
    "print(f'Наилучшая точность модели: {acc_best_regression:.1%} была достигнута при максимальном числе итераций {best_iter_regression}')"
   ]
  },
  {
   "cell_type": "markdown",
   "metadata": {},
   "source": [
    "Как можно заметить по графику и выводу ячейки количество итераций от 10 до 30 включительно не позволяет логистической регрессии сойтись. При хотя бы 40 итерациях модель сходится и достигает постоянной точности в 71,1% (на графике это выражается выходом на плато).\n",
    "\n",
    "Перейдём теперь к проверке моделей на тестовой выборке."
   ]
  },
  {
   "cell_type": "markdown",
   "metadata": {},
   "source": [
    "## Проверьте модель на тестовой выборке"
   ]
  },
  {
   "cell_type": "markdown",
   "metadata": {},
   "source": [
    "Лучший результат на валидационных выборках показала модель случайного леса, проверим её теперь на финальной тестовой выборке."
   ]
  },
  {
   "cell_type": "code",
   "execution_count": 40,
   "metadata": {},
   "outputs": [
    {
     "name": "stdout",
     "output_type": "stream",
     "text": [
      "Accuracy для модели случайного леса на тестовой выборке: 79.6%\n"
     ]
    }
   ],
   "source": [
    "print(f'Accuracy для модели случайного леса на тестовой выборке: {best_model_forest.score(features_test, target_test):.1%}')"
   ]
  },
  {
   "cell_type": "markdown",
   "metadata": {},
   "source": [
    "Получаем следующие результаты:\n",
    "* Лучшая модель для случайного леса, на валидационной выборке показавшая `accuracy` 80,9%, показала на тестовой выборке `accuracy` 79,6% и также преодолела критерий в 75%. Таким образом данная модель показала результат ~80% `accuracy` как на валидационной, так и на тестовой выборках. Соответственно из исследуемых моделей следует выбрать именно модель случайного леса с максимальной глубиной решающего дерева равной 8 и количеством деревьев равному 40."
   ]
  },
  {
   "cell_type": "markdown",
   "metadata": {},
   "source": [
    "## (бонус) Проверьте модели на адекватность"
   ]
  },
  {
   "cell_type": "markdown",
   "metadata": {},
   "source": [
    "Также проведём проверку моделей на адекватность. Сделаем это использовав `DummyClassifier` - простейшую модель, которая будет предсказывать тот параметр, который встречается чаще. Если её `accuracy` окажется ниже `accuracy` модели, тогда будем считать модель адекватной."
   ]
  },
  {
   "cell_type": "code",
   "execution_count": 41,
   "metadata": {},
   "outputs": [
    {
     "name": "stdout",
     "output_type": "stream",
     "text": [
      "`accuracy` простейшей модели: 70.6%\n"
     ]
    }
   ],
   "source": [
    "model_dummy = DummyClassifier(random_state=12345)\n",
    "model_dummy.fit(features_train, target_train)\n",
    "print(f'`accuracy` простейшей модели: {model_dummy.score(features_valid, target_valid):.1%}')"
   ]
  },
  {
   "cell_type": "markdown",
   "metadata": {},
   "source": [
    "Соответственно модели случайного леса и решающего дерева можно считать адекватными, в то время как модель логистической регрессии считать адекватной нельзя - её результат практически совпадает с уровнем, который показывает простейшая модель классификации."
   ]
  },
  {
   "cell_type": "markdown",
   "metadata": {},
   "source": [
    "## Чек-лист готовности проекта"
   ]
  },
  {
   "cell_type": "markdown",
   "metadata": {},
   "source": [
    "Поставьте 'x' в выполненных пунктах. Далее нажмите Shift+Enter."
   ]
  },
  {
   "cell_type": "markdown",
   "metadata": {},
   "source": [
    "- [x] Jupyter Notebook открыт\n",
    "- [x] Весь код исполняется без ошибок\n",
    "- [x] Ячейки с кодом расположены в порядке исполнения\n",
    "- [x] Выполнено задание 1: данные загружены и изучены\n",
    "- [x] Выполнено задание 2: данные разбиты на три выборки\n",
    "- [x] Выполнено задание 3: проведено исследование моделей\n",
    "    - [x] Рассмотрено больше одной модели\n",
    "    - [x] Рассмотрено хотя бы 3 значения гипепараметров для какой-нибудь модели\n",
    "    - [x] Написаны выводы по результатам исследования\n",
    "- [x] Выполнено задание 3: Проведено тестирование\n",
    "- [x] Удалось достичь accuracy не меньше 0.75\n"
   ]
  },
  {
   "cell_type": "code",
   "execution_count": null,
   "metadata": {},
   "outputs": [],
   "source": []
  }
 ],
 "metadata": {
  "ExecuteTimeLog": [
   {
    "duration": 377,
    "start_time": "2023-03-21T13:06:41.906Z"
   },
   {
    "duration": 225,
    "start_time": "2023-03-21T13:12:12.402Z"
   },
   {
    "duration": 60,
    "start_time": "2023-03-21T13:13:56.758Z"
   },
   {
    "duration": 17,
    "start_time": "2023-03-21T13:14:02.393Z"
   },
   {
    "duration": 9,
    "start_time": "2023-03-21T13:29:04.974Z"
   },
   {
    "duration": 28,
    "start_time": "2023-03-21T13:29:38.916Z"
   },
   {
    "duration": 894,
    "start_time": "2023-03-21T13:29:52.518Z"
   },
   {
    "duration": 776,
    "start_time": "2023-03-21T13:33:02.950Z"
   },
   {
    "duration": 653,
    "start_time": "2023-03-21T13:47:37.425Z"
   },
   {
    "duration": 18,
    "start_time": "2023-03-21T13:49:11.751Z"
   },
   {
    "duration": 17,
    "start_time": "2023-03-21T13:49:26.787Z"
   },
   {
    "duration": 64,
    "start_time": "2023-03-21T13:49:56.515Z"
   },
   {
    "duration": 17,
    "start_time": "2023-03-21T13:50:27.311Z"
   },
   {
    "duration": 1251,
    "start_time": "2023-03-22T07:14:21.702Z"
   },
   {
    "duration": 183,
    "start_time": "2023-03-22T07:14:32.940Z"
   },
   {
    "duration": 71,
    "start_time": "2023-03-22T07:14:33.124Z"
   },
   {
    "duration": 15,
    "start_time": "2023-03-22T07:14:33.196Z"
   },
   {
    "duration": 10,
    "start_time": "2023-03-22T07:14:33.213Z"
   },
   {
    "duration": 21,
    "start_time": "2023-03-22T07:14:33.225Z"
   },
   {
    "duration": 793,
    "start_time": "2023-03-22T07:14:33.248Z"
   },
   {
    "duration": 7,
    "start_time": "2023-03-22T07:14:34.043Z"
   },
   {
    "duration": 21,
    "start_time": "2023-03-22T07:14:34.052Z"
   },
   {
    "duration": 99,
    "start_time": "2023-03-22T07:14:34.074Z"
   },
   {
    "duration": 65,
    "start_time": "2023-03-22T07:15:21.818Z"
   },
   {
    "duration": 63,
    "start_time": "2023-03-22T07:15:29.851Z"
   },
   {
    "duration": 140,
    "start_time": "2023-03-22T07:16:10.569Z"
   },
   {
    "duration": 152,
    "start_time": "2023-03-22T07:17:02.280Z"
   },
   {
    "duration": 4,
    "start_time": "2023-03-22T07:17:34.004Z"
   },
   {
    "duration": 142,
    "start_time": "2023-03-22T07:18:56.270Z"
   },
   {
    "duration": 141,
    "start_time": "2023-03-22T07:20:46.430Z"
   },
   {
    "duration": 233,
    "start_time": "2023-03-22T07:21:03.864Z"
   },
   {
    "duration": 199,
    "start_time": "2023-03-22T07:21:16.239Z"
   },
   {
    "duration": 400,
    "start_time": "2023-03-23T17:40:01.819Z"
   },
   {
    "duration": 80,
    "start_time": "2023-03-23T17:40:02.221Z"
   },
   {
    "duration": 21,
    "start_time": "2023-03-23T17:40:02.303Z"
   },
   {
    "duration": 50,
    "start_time": "2023-03-23T17:40:02.326Z"
   },
   {
    "duration": 32,
    "start_time": "2023-03-23T17:40:02.378Z"
   },
   {
    "duration": 1587,
    "start_time": "2023-03-23T17:40:02.412Z"
   },
   {
    "duration": 1246,
    "start_time": "2023-03-23T17:40:04.000Z"
   },
   {
    "duration": 23,
    "start_time": "2023-03-23T17:40:05.248Z"
   },
   {
    "duration": 296,
    "start_time": "2023-03-23T17:40:05.288Z"
   },
   {
    "duration": 268,
    "start_time": "2023-03-23T17:57:38.491Z"
   },
   {
    "duration": 133,
    "start_time": "2023-03-23T18:04:02.815Z"
   },
   {
    "duration": 54,
    "start_time": "2023-03-23T18:04:15.773Z"
   },
   {
    "duration": 33,
    "start_time": "2023-03-23T18:05:51.311Z"
   },
   {
    "duration": 36,
    "start_time": "2023-03-23T18:06:15.228Z"
   },
   {
    "duration": 60,
    "start_time": "2023-03-23T18:06:58.649Z"
   },
   {
    "duration": 35,
    "start_time": "2023-03-23T18:07:05.403Z"
   },
   {
    "duration": 3,
    "start_time": "2023-03-23T18:07:20.218Z"
   },
   {
    "duration": 36,
    "start_time": "2023-03-23T18:08:37.709Z"
   },
   {
    "duration": 4,
    "start_time": "2023-03-23T18:08:40.256Z"
   },
   {
    "duration": 5,
    "start_time": "2023-03-23T18:08:59.826Z"
   },
   {
    "duration": 5,
    "start_time": "2023-03-23T18:09:03.518Z"
   },
   {
    "duration": 5,
    "start_time": "2023-03-23T18:09:10.331Z"
   },
   {
    "duration": 44,
    "start_time": "2023-03-23T18:09:21.264Z"
   },
   {
    "duration": 4,
    "start_time": "2023-03-23T18:09:24.184Z"
   },
   {
    "duration": 604,
    "start_time": "2023-03-23T18:09:38.473Z"
   },
   {
    "duration": 514,
    "start_time": "2023-03-23T18:09:52.112Z"
   },
   {
    "duration": 5,
    "start_time": "2023-03-23T18:10:13.574Z"
   },
   {
    "duration": 10,
    "start_time": "2023-03-23T18:10:29.038Z"
   },
   {
    "duration": 5,
    "start_time": "2023-03-23T18:10:34.108Z"
   },
   {
    "duration": 95751,
    "start_time": "2023-03-23T18:10:41.705Z"
   },
   {
    "duration": 3,
    "start_time": "2023-03-23T18:13:25.600Z"
   },
   {
    "duration": 44,
    "start_time": "2023-03-23T18:13:25.604Z"
   },
   {
    "duration": 13,
    "start_time": "2023-03-23T18:13:25.650Z"
   },
   {
    "duration": 33,
    "start_time": "2023-03-23T18:13:25.665Z"
   },
   {
    "duration": 33,
    "start_time": "2023-03-23T18:13:25.700Z"
   },
   {
    "duration": 974,
    "start_time": "2023-03-23T18:13:25.735Z"
   },
   {
    "duration": 8,
    "start_time": "2023-03-23T18:13:26.711Z"
   },
   {
    "duration": 43,
    "start_time": "2023-03-23T18:13:26.720Z"
   },
   {
    "duration": 253,
    "start_time": "2023-03-23T18:13:26.765Z"
   },
   {
    "duration": 11053,
    "start_time": "2023-03-23T18:13:27.020Z"
   },
   {
    "duration": 89125,
    "start_time": "2023-03-23T18:14:11.644Z"
   },
   {
    "duration": 256,
    "start_time": "2023-03-23T18:27:00.036Z"
   },
   {
    "duration": 266,
    "start_time": "2023-03-23T18:27:57.952Z"
   },
   {
    "duration": 238,
    "start_time": "2023-03-23T18:28:06.697Z"
   },
   {
    "duration": 242,
    "start_time": "2023-03-23T18:28:21.421Z"
   },
   {
    "duration": 242,
    "start_time": "2023-03-23T18:29:12.658Z"
   },
   {
    "duration": 374,
    "start_time": "2023-03-23T18:29:31.623Z"
   },
   {
    "duration": 255,
    "start_time": "2023-03-23T18:29:40.938Z"
   },
   {
    "duration": 256,
    "start_time": "2023-03-23T18:29:49.738Z"
   },
   {
    "duration": 310,
    "start_time": "2023-03-23T18:30:24.512Z"
   },
   {
    "duration": 231,
    "start_time": "2023-03-23T18:30:33.260Z"
   },
   {
    "duration": 310,
    "start_time": "2023-03-23T18:30:37.755Z"
   },
   {
    "duration": 261,
    "start_time": "2023-03-23T18:30:44.869Z"
   },
   {
    "duration": 312,
    "start_time": "2023-03-23T18:31:38.449Z"
   },
   {
    "duration": 258,
    "start_time": "2023-03-23T18:31:49.443Z"
   },
   {
    "duration": 258,
    "start_time": "2023-03-23T18:31:56.618Z"
   },
   {
    "duration": 278,
    "start_time": "2023-03-23T18:32:02.509Z"
   },
   {
    "duration": 278,
    "start_time": "2023-03-23T18:32:10.388Z"
   },
   {
    "duration": 90380,
    "start_time": "2023-03-23T18:32:22.295Z"
   },
   {
    "duration": 92041,
    "start_time": "2023-03-23T18:57:04.110Z"
   },
   {
    "duration": 57214,
    "start_time": "2023-03-23T18:59:44.911Z"
   },
   {
    "duration": 27,
    "start_time": "2023-03-23T19:00:45.955Z"
   },
   {
    "duration": 25,
    "start_time": "2023-03-23T19:00:50.534Z"
   },
   {
    "duration": 57,
    "start_time": "2023-03-23T19:01:40.642Z"
   },
   {
    "duration": 92962,
    "start_time": "2023-03-23T19:01:45.518Z"
   },
   {
    "duration": 90278,
    "start_time": "2023-03-23T19:06:40.563Z"
   },
   {
    "duration": 89542,
    "start_time": "2023-03-23T19:09:33.852Z"
   },
   {
    "duration": 639,
    "start_time": "2023-03-23T19:13:19.419Z"
   },
   {
    "duration": 89490,
    "start_time": "2023-03-23T19:13:28.375Z"
   },
   {
    "duration": 89544,
    "start_time": "2023-03-23T19:16:45.791Z"
   },
   {
    "duration": 90053,
    "start_time": "2023-03-23T19:21:39.396Z"
   },
   {
    "duration": 90211,
    "start_time": "2023-03-23T19:26:04.872Z"
   },
   {
    "duration": 91543,
    "start_time": "2023-03-23T19:28:32.314Z"
   },
   {
    "duration": 273,
    "start_time": "2023-03-23T21:26:10.416Z"
   },
   {
    "duration": 776,
    "start_time": "2023-03-23T21:26:23.003Z"
   },
   {
    "duration": 854,
    "start_time": "2023-03-23T21:43:10.265Z"
   },
   {
    "duration": 1144,
    "start_time": "2023-03-23T21:44:08.950Z"
   },
   {
    "duration": 1189,
    "start_time": "2023-03-23T21:45:39.507Z"
   },
   {
    "duration": 519,
    "start_time": "2023-03-23T21:52:09.521Z"
   },
   {
    "duration": 755,
    "start_time": "2023-03-23T21:54:19.677Z"
   },
   {
    "duration": 869,
    "start_time": "2023-03-23T21:54:26.907Z"
   },
   {
    "duration": 795,
    "start_time": "2023-03-23T21:54:40.270Z"
   },
   {
    "duration": 859,
    "start_time": "2023-03-23T21:54:46.773Z"
   },
   {
    "duration": 1203,
    "start_time": "2023-03-23T21:57:39.559Z"
   },
   {
    "duration": 1349,
    "start_time": "2023-03-23T21:57:51.115Z"
   },
   {
    "duration": 786,
    "start_time": "2023-03-23T22:03:08.194Z"
   },
   {
    "duration": 953,
    "start_time": "2023-03-24T11:54:59.337Z"
   },
   {
    "duration": 162,
    "start_time": "2023-03-24T11:55:11.592Z"
   },
   {
    "duration": 74,
    "start_time": "2023-03-24T11:55:11.756Z"
   },
   {
    "duration": 19,
    "start_time": "2023-03-24T11:55:11.831Z"
   },
   {
    "duration": 11,
    "start_time": "2023-03-24T11:55:11.852Z"
   },
   {
    "duration": 36,
    "start_time": "2023-03-24T11:55:11.865Z"
   },
   {
    "duration": 1367,
    "start_time": "2023-03-24T11:55:11.902Z"
   },
   {
    "duration": 8,
    "start_time": "2023-03-24T11:55:13.270Z"
   },
   {
    "duration": 23,
    "start_time": "2023-03-24T11:55:13.288Z"
   },
   {
    "duration": 270,
    "start_time": "2023-03-24T11:55:13.312Z"
   },
   {
    "duration": 222,
    "start_time": "2023-03-24T11:55:13.583Z"
   },
   {
    "duration": 0,
    "start_time": "2023-03-24T11:55:13.807Z"
   },
   {
    "duration": 84512,
    "start_time": "2023-03-24T11:55:36.438Z"
   },
   {
    "duration": 671,
    "start_time": "2023-03-24T11:57:00.952Z"
   },
   {
    "duration": 697,
    "start_time": "2023-03-24T12:07:03.890Z"
   },
   {
    "duration": 50,
    "start_time": "2023-03-24T12:46:57.239Z"
   },
   {
    "duration": 60,
    "start_time": "2023-03-24T12:47:02.747Z"
   },
   {
    "duration": 74,
    "start_time": "2023-03-24T12:47:12.188Z"
   },
   {
    "duration": 68,
    "start_time": "2023-03-24T12:47:23.852Z"
   },
   {
    "duration": 16,
    "start_time": "2023-03-24T12:48:14.592Z"
   },
   {
    "duration": 279,
    "start_time": "2023-03-24T12:54:20.654Z"
   },
   {
    "duration": 96020,
    "start_time": "2023-03-24T12:54:25.220Z"
   },
   {
    "duration": 737,
    "start_time": "2023-03-24T13:08:57.080Z"
   },
   {
    "duration": 6,
    "start_time": "2023-03-24T13:15:38.007Z"
   },
   {
    "duration": 219,
    "start_time": "2023-03-24T13:16:07.775Z"
   },
   {
    "duration": 281,
    "start_time": "2023-03-24T13:16:29.097Z"
   },
   {
    "duration": 250,
    "start_time": "2023-03-24T13:16:50.616Z"
   },
   {
    "duration": 244,
    "start_time": "2023-03-24T13:17:47.547Z"
   },
   {
    "duration": 399,
    "start_time": "2023-03-24T13:18:21.100Z"
   },
   {
    "duration": 573,
    "start_time": "2023-03-24T13:18:34.282Z"
   },
   {
    "duration": 603,
    "start_time": "2023-03-24T13:18:49.306Z"
   },
   {
    "duration": 601,
    "start_time": "2023-03-24T13:20:49.605Z"
   },
   {
    "duration": 255,
    "start_time": "2023-03-24T13:21:09.543Z"
   },
   {
    "duration": 4,
    "start_time": "2023-03-24T13:21:36.476Z"
   },
   {
    "duration": 36,
    "start_time": "2023-03-24T13:21:36.482Z"
   },
   {
    "duration": 14,
    "start_time": "2023-03-24T13:21:36.519Z"
   },
   {
    "duration": 14,
    "start_time": "2023-03-24T13:21:36.536Z"
   },
   {
    "duration": 32,
    "start_time": "2023-03-24T13:21:36.552Z"
   },
   {
    "duration": 1020,
    "start_time": "2023-03-24T13:21:36.586Z"
   },
   {
    "duration": 7,
    "start_time": "2023-03-24T13:21:37.608Z"
   },
   {
    "duration": 23,
    "start_time": "2023-03-24T13:21:37.617Z"
   },
   {
    "duration": 287,
    "start_time": "2023-03-24T13:21:37.642Z"
   },
   {
    "duration": 90329,
    "start_time": "2023-03-24T13:21:37.931Z"
   },
   {
    "duration": 806,
    "start_time": "2023-03-24T13:23:08.262Z"
   },
   {
    "duration": 26,
    "start_time": "2023-03-24T13:23:09.070Z"
   },
   {
    "duration": 22,
    "start_time": "2023-03-24T13:23:09.098Z"
   },
   {
    "duration": 27,
    "start_time": "2023-03-24T13:23:18.198Z"
   },
   {
    "duration": 174,
    "start_time": "2023-03-24T13:23:55.847Z"
   },
   {
    "duration": 11,
    "start_time": "2023-03-24T13:24:15.542Z"
   },
   {
    "duration": 242,
    "start_time": "2023-03-24T13:24:22.491Z"
   },
   {
    "duration": 195,
    "start_time": "2023-03-24T13:24:29.774Z"
   },
   {
    "duration": 20,
    "start_time": "2023-03-24T13:24:36.403Z"
   },
   {
    "duration": 40,
    "start_time": "2023-03-24T13:24:41.851Z"
   },
   {
    "duration": 77,
    "start_time": "2023-03-24T13:24:45.848Z"
   },
   {
    "duration": 111,
    "start_time": "2023-03-24T13:24:50.901Z"
   },
   {
    "duration": 113,
    "start_time": "2023-03-24T13:24:57.507Z"
   },
   {
    "duration": 109,
    "start_time": "2023-03-24T13:25:05.789Z"
   },
   {
    "duration": 130,
    "start_time": "2023-03-24T13:25:10.960Z"
   },
   {
    "duration": 93,
    "start_time": "2023-03-24T13:25:14.586Z"
   },
   {
    "duration": 120,
    "start_time": "2023-03-24T13:25:19.059Z"
   },
   {
    "duration": 173,
    "start_time": "2023-03-24T13:25:28.349Z"
   },
   {
    "duration": 12,
    "start_time": "2023-03-24T13:27:43.573Z"
   },
   {
    "duration": 26,
    "start_time": "2023-03-24T13:27:53.113Z"
   },
   {
    "duration": 98,
    "start_time": "2023-03-24T13:28:01.160Z"
   },
   {
    "duration": 177,
    "start_time": "2023-03-24T13:28:07.088Z"
   },
   {
    "duration": 198,
    "start_time": "2023-03-24T13:28:11.667Z"
   },
   {
    "duration": 4,
    "start_time": "2023-03-24T15:14:19.602Z"
   },
   {
    "duration": 4,
    "start_time": "2023-03-24T15:17:10.593Z"
   },
   {
    "duration": 39,
    "start_time": "2023-03-24T15:17:10.598Z"
   },
   {
    "duration": 13,
    "start_time": "2023-03-24T15:17:10.639Z"
   },
   {
    "duration": 12,
    "start_time": "2023-03-24T15:17:10.653Z"
   },
   {
    "duration": 31,
    "start_time": "2023-03-24T15:17:10.667Z"
   },
   {
    "duration": 1026,
    "start_time": "2023-03-24T15:17:10.705Z"
   },
   {
    "duration": 8,
    "start_time": "2023-03-24T15:17:11.732Z"
   },
   {
    "duration": 24,
    "start_time": "2023-03-24T15:17:11.741Z"
   },
   {
    "duration": 254,
    "start_time": "2023-03-24T15:17:11.766Z"
   },
   {
    "duration": 89915,
    "start_time": "2023-03-24T15:17:12.021Z"
   },
   {
    "duration": 726,
    "start_time": "2023-03-24T15:18:41.937Z"
   },
   {
    "duration": 32,
    "start_time": "2023-03-24T15:18:42.665Z"
   },
   {
    "duration": 6,
    "start_time": "2023-03-24T15:18:42.705Z"
   },
   {
    "duration": 457,
    "start_time": "2023-03-24T15:34:42.007Z"
   },
   {
    "duration": 132,
    "start_time": "2023-03-24T15:34:42.467Z"
   },
   {
    "duration": 23,
    "start_time": "2023-03-24T15:34:42.601Z"
   },
   {
    "duration": 15,
    "start_time": "2023-03-24T15:34:42.628Z"
   },
   {
    "duration": 41,
    "start_time": "2023-03-24T15:34:42.646Z"
   },
   {
    "duration": 1387,
    "start_time": "2023-03-24T15:34:42.689Z"
   },
   {
    "duration": 2134,
    "start_time": "2023-03-24T15:34:44.080Z"
   },
   {
    "duration": 39,
    "start_time": "2023-03-24T15:34:46.217Z"
   },
   {
    "duration": 442,
    "start_time": "2023-03-24T15:34:46.258Z"
   },
   {
    "duration": 98871,
    "start_time": "2023-03-24T15:34:46.704Z"
   },
   {
    "duration": 920,
    "start_time": "2023-03-24T15:36:25.577Z"
   },
   {
    "duration": 45,
    "start_time": "2023-03-24T15:36:26.500Z"
   },
   {
    "duration": 8,
    "start_time": "2023-03-24T15:36:26.547Z"
   },
   {
    "duration": 395,
    "start_time": "2023-04-04T12:24:29.417Z"
   },
   {
    "duration": 44,
    "start_time": "2023-04-04T12:33:26.297Z"
   },
   {
    "duration": 1515,
    "start_time": "2023-04-04T12:33:30.244Z"
   },
   {
    "duration": 128,
    "start_time": "2023-04-04T12:33:31.761Z"
   },
   {
    "duration": 17,
    "start_time": "2023-04-04T12:33:31.890Z"
   },
   {
    "duration": 12,
    "start_time": "2023-04-04T12:33:31.909Z"
   },
   {
    "duration": 27,
    "start_time": "2023-04-04T12:33:31.923Z"
   },
   {
    "duration": 943,
    "start_time": "2023-04-04T12:33:31.952Z"
   },
   {
    "duration": 7,
    "start_time": "2023-04-04T12:33:32.897Z"
   },
   {
    "duration": 35,
    "start_time": "2023-04-04T12:33:32.905Z"
   },
   {
    "duration": 236,
    "start_time": "2023-04-04T12:33:32.941Z"
   },
   {
    "duration": 84165,
    "start_time": "2023-04-04T12:33:33.179Z"
   },
   {
    "duration": 668,
    "start_time": "2023-04-04T12:34:57.346Z"
   },
   {
    "duration": 25,
    "start_time": "2023-04-04T12:34:58.016Z"
   },
   {
    "duration": 18,
    "start_time": "2023-04-04T12:34:58.043Z"
   },
   {
    "duration": 4,
    "start_time": "2023-04-04T13:12:23.436Z"
   },
   {
    "duration": 63,
    "start_time": "2023-04-04T13:12:23.441Z"
   },
   {
    "duration": 12,
    "start_time": "2023-04-04T13:12:23.505Z"
   },
   {
    "duration": 12,
    "start_time": "2023-04-04T13:12:23.519Z"
   },
   {
    "duration": 28,
    "start_time": "2023-04-04T13:12:23.533Z"
   },
   {
    "duration": 883,
    "start_time": "2023-04-04T13:12:23.562Z"
   },
   {
    "duration": 7,
    "start_time": "2023-04-04T13:12:24.447Z"
   },
   {
    "duration": 28,
    "start_time": "2023-04-04T13:12:24.456Z"
   },
   {
    "duration": 266,
    "start_time": "2023-04-04T13:12:24.485Z"
   },
   {
    "duration": 83390,
    "start_time": "2023-04-04T13:12:24.753Z"
   },
   {
    "duration": 787,
    "start_time": "2023-04-04T13:13:48.145Z"
   },
   {
    "duration": 15,
    "start_time": "2023-04-04T13:13:48.935Z"
   },
   {
    "duration": 5,
    "start_time": "2023-04-04T13:13:48.951Z"
   },
   {
    "duration": 3,
    "start_time": "2023-04-04T13:14:40.544Z"
   },
   {
    "duration": 31,
    "start_time": "2023-04-04T13:14:40.549Z"
   },
   {
    "duration": 12,
    "start_time": "2023-04-04T13:14:40.581Z"
   },
   {
    "duration": 15,
    "start_time": "2023-04-04T13:14:40.594Z"
   },
   {
    "duration": 21,
    "start_time": "2023-04-04T13:14:40.611Z"
   },
   {
    "duration": 892,
    "start_time": "2023-04-04T13:14:40.633Z"
   },
   {
    "duration": 11,
    "start_time": "2023-04-04T13:14:41.527Z"
   },
   {
    "duration": 23,
    "start_time": "2023-04-04T13:14:41.539Z"
   },
   {
    "duration": 231,
    "start_time": "2023-04-04T13:14:41.563Z"
   },
   {
    "duration": 82920,
    "start_time": "2023-04-04T13:14:41.795Z"
   },
   {
    "duration": 743,
    "start_time": "2023-04-04T13:16:04.717Z"
   },
   {
    "duration": 12,
    "start_time": "2023-04-04T13:16:05.462Z"
   },
   {
    "duration": 6,
    "start_time": "2023-04-04T13:16:05.477Z"
   }
  ],
  "kernelspec": {
   "display_name": "Python 3 (ipykernel)",
   "language": "python",
   "name": "python3"
  },
  "language_info": {
   "codemirror_mode": {
    "name": "ipython",
    "version": 3
   },
   "file_extension": ".py",
   "mimetype": "text/x-python",
   "name": "python",
   "nbconvert_exporter": "python",
   "pygments_lexer": "ipython3",
   "version": "3.9.5"
  },
  "toc": {
   "base_numbering": 1,
   "nav_menu": {},
   "number_sections": true,
   "sideBar": true,
   "skip_h1_title": true,
   "title_cell": "Table of Contents",
   "title_sidebar": "Contents",
   "toc_cell": false,
   "toc_position": {},
   "toc_section_display": true,
   "toc_window_display": false
  }
 },
 "nbformat": 4,
 "nbformat_minor": 2
}
